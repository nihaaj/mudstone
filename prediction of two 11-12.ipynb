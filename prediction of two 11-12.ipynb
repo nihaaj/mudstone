{
 "cells": [
  {
   "cell_type": "markdown",
   "id": "11d65f71",
   "metadata": {},
   "source": [
    "# predicting model of slaking settlement¶\n",
    "## import and definition"
   ]
  },
  {
   "cell_type": "code",
   "execution_count": 1,
   "id": "e5951ad9",
   "metadata": {},
   "outputs": [],
   "source": [
    "import pandas as pd\n",
    "import matplotlib.pyplot as plt\n",
    "import numpy as np\n",
    "import itertools as it\n",
    "import math \n",
    "import numpy.polynomial.polynomial as poly\n",
    "from scipy.interpolate import interp1d\n",
    "from matplotlib.ticker import (MultipleLocator, AutoMinorLocator)\n",
    "import matplotlib.patches as patches\n",
    "# calculating the brekage \n",
    "def relative_br (seive_size, percentage_passing):\n",
    "\n",
    "    seive_log=np.log10(np.array(seive_size))\n",
    "    seive_dis=np.array(seive_log)[:-1]-np.array(seive_log)[1:]\n",
    "    per_dis_100_1cy=(np.array(percentage_passing)[:-1]+np.array(percentage_passing)[1:])/2\n",
    "    total_100_1cy=((seive_dis)*per_dis_100_1cy).sum()\n",
    "    seive_dis_init=(np.log10(np.array(seive_size)[0])-np.log10(np.array(seive_size)[1]))*50\n",
    "    area_inbetween=total_100_1cy-seive_dis_init\n",
    "    possible_total=(np.log10(np.array(seive_size)[0])-np.log10(np.array(seive_size)[-1]))*100-seive_dis_init\n",
    "    Br=(area_inbetween/possible_total)\n",
    "    return (Br)\n",
    "# calculating the particle size with givein percentage\n",
    "def parti_size (sei, pass_per, wan_per):\n",
    "    return(np.interp(wan_per,list(reversed(list(pass_per))),list(reversed(list(sei)))))\n",
    "def get_sub(x):\n",
    "    normal = \"ABCDEFGHIJKLMNOPQRSTUVWXYZabcdefghijklmnopqrstuvwxyz0123456789+-=()\"\n",
    "    sub_s = \"ₐ₈CDₑբGₕᵢⱼₖₗₘₙₒₚQᵣₛₜᵤᵥwₓᵧZₐ♭꜀ᑯₑբ₉ₕᵢⱼₖₗₘₙₒₚ૧ᵣₛₜᵤᵥwₓᵧ₂₀₁₂₃₄₅₆₇₈₉₊₋₌₍₎\"\n",
    "    res = x.maketrans(''.join(normal), ''.join(sub_s))\n",
    "    return x.translate(res)"
   ]
  },
  {
   "cell_type": "markdown",
   "id": "38261b37",
   "metadata": {},
   "source": [
    "# Data and its manipulation"
   ]
  },
  {
   "cell_type": "code",
   "execution_count": 5,
   "id": "20087927",
   "metadata": {},
   "outputs": [],
   "source": [
    "df1= pd. read_excel (r\"C:\\Users\\user\\Desktop\\python link\\master research1.xlsx\")#read the settlement related file\n",
    "# df2= pd. read_excel (r\"C:\\Users\\ThinkCentre-M73\\Desktop\\master 2\\python link file\\breakage.xlsx\")#read the breakage related file\n",
    "# df3= pd. read_excel (r\"C:\\Users\\ThinkCentre-M73\\Desktop\\master 2\\python link file\\3 compaction strain.xlsx\")# 3 compaction mudstone\n",
    "df1.dropna(subset = [\"100 kpa\"], inplace=True)\n",
    "\n",
    "\n",
    "# add columen for dry density (no suffi)\n",
    "df1[\"Dry Density 100 kpa\"]=1250*(100)/(100-df1[\"100 kpa\"]-1)\n",
    "df1[\"Dry Density 200 kpa\"]=1250*(100)/(100-df1[\"200 kpa\"]-2.2)\n",
    "df1[\"Dry Density 500 kpa\"]=1250*(100)/(100-df1[\"500 kpa\"]-4)\n",
    "# compaction \n",
    "# df3[\"Dry Density 82%\"]=1314*(100)/(100-df3[\"s-82%\"]-1.9)\n",
    "# df3[\"Dry Density 87%\"]=1394*(100)/(100-df3[\"s-87%\"]-1.7)\n",
    "\n",
    "# add columen for voids (no suffi)\n",
    "df1[\"e-100 kpa\"]=(1-(df1[\"Dry Density 100 kpa\"]/2690))/(df1[\"Dry Density 100 kpa\"]/2690)\n",
    "df1[\"e-200 kpa\"]=(1-(df1[\"Dry Density 200 kpa\"]/2690))/(df1[\"Dry Density 200 kpa\"]/2690)\n",
    "df1[\"e-500 kpa\"]=(1-(df1[\"Dry Density 500 kpa\"]/2690))/(df1[\"Dry Density 500 kpa\"]/2690)\n",
    "# compaction \n",
    "# df3[\"e-82%\"]=(1-(df3[\"Dry Density 82%\"]/2690))/(df3[\"Dry Density 82%\"]/2690)\n",
    "# df3[\"e-87%\"]=(1-(df3[\"Dry Density 87%\"]/2690))/(df3[\"Dry Density 87%\"]/2690)\n",
    "# add columen for voids (suffi)\n",
    "df1['e-100 kpa'][0]=1.14229\n",
    "df1['e-200 kpa'][0]=1.105\n",
    "df1['e-500 kpa'][0]=1.02\n",
    "# add columen for relative compaction \n",
    "df1['dc-100']=df1['Dry Density 100 kpa']/1650*100\n",
    "df1['dc-200']=df1['Dry Density 200 kpa']/1650*100\n",
    "df1['dc-500']=df1['Dry Density 500 kpa']/1650*100"
   ]
  },
  {
   "cell_type": "code",
   "execution_count": null,
   "id": "ec05d15e",
   "metadata": {},
   "outputs": [],
   "source": []
  },
  {
   "cell_type": "markdown",
   "id": "f7e1b577",
   "metadata": {},
   "source": [
    "\n",
    "## rearranging the data only for dry"
   ]
  },
  {
   "cell_type": "code",
   "execution_count": 6,
   "id": "f0b4aa2f",
   "metadata": {},
   "outputs": [],
   "source": [
    "#only dry and not for first wetting \n",
    "#100\n",
    "t0_100=np.array(df1['e-100 kpa'][::2])#e for dry \n",
    "t1_100=t0_100-np.ones(len(t0_100))*t0_100[-1]#differnce from nc line\n",
    "t2_100=t0_100[:-1]-t0_100[1:]                # e reduction\n",
    "# e_cum_100=np.cumsum(t1_100)# cumulative differnce from nc line\n",
    "s_cum_100=np.array(df1[\"100 kpa\"][::2])# cumulative dry strain\n",
    "s1_100=-(s_cum_100[:-1]-s_cum_100[1:])[:]#strain by cycle\n",
    "#200\n",
    "t0_200=np.array(df1['e-200 kpa'][::2])#e\n",
    "t1_200=t0_200-np.ones(len(t0_200))*t0_200[-1]#differnce from nc line\n",
    "t2_200=t0_200[:-1]-t0_200[1:]\n",
    "# e_cum_200=np.cumsum(t1_200)# cumulative differnce from nc line\n",
    "s_cum_200=np.array(df1[\"200 kpa\"][::2])# cumulative dry strain\n",
    "s1_200=-(s_cum_200[:-1]-s_cum_200[1:])[:]\n",
    "# #compaction \n",
    "# #82%\n",
    "# t0_82=np.array(df3['e-82%'][::2])#e\n",
    "# t1_82=t0_82-np.ones(len(t0_82))*t0_200[-1]#differnce from nc line\n",
    "# t2_82=t0_82[:-1]-t0_82[1:]\n",
    "# e_cum_82=np.cumsum(t1_82)# cumulative differnce from nc line\n",
    "# s_cum_82=np.array(df3[\"s-82%\"][::2])# cumulative dry strain\n",
    "# s1_82=-(s_cum_82[:-1]-s_cum_82[1:])[:]\n",
    "# #87%\n",
    "# t0_87=np.array(df3['e-87%'][::2])#e\n",
    "# t1_87=t0_82-np.ones(len(t0_87))*t0_200[-1]#differnce from nc line\n",
    "# t2_87=t0_87[:-1]-t0_87[1:]\n",
    "# e_cum_87=np.cumsum(t1_87)# cumulative differnce from nc line\n",
    "# s_cum_87=np.array(df3[\"s-87%\"][::2])# cumulative dry strain\n",
    "# s1_87=-(s_cum_87[:-1]-s_cum_87[1:])[:]\n",
    "#500\n",
    "t0_500=np.array(df1['e-500 kpa'][::2])#e\n",
    "t1_500=t0_500-np.ones(len(t0_500))*t0_500[-1]#differnce from nc line\n",
    "t2_500=t0_500[:-1]-t0_500[1:]\n",
    "# e_cum_500=np.cumsum(t1_500)# cumulative differnce from nc line\n",
    "s_cum_500=np.array(df1[\"500 kpa\"][::2])# cumulative dry strain\n",
    "s1_500=-(s_cum_500[:-1]-s_cum_500[1:])[:]"
   ]
  },
  {
   "cell_type": "code",
   "execution_count": null,
   "id": "194b2221",
   "metadata": {},
   "outputs": [],
   "source": []
  },
  {
   "cell_type": "code",
   "execution_count": null,
   "id": "4d4b1c5a",
   "metadata": {},
   "outputs": [],
   "source": []
  },
  {
   "cell_type": "code",
   "execution_count": null,
   "id": "0620cb75",
   "metadata": {},
   "outputs": [],
   "source": []
  },
  {
   "cell_type": "code",
   "execution_count": 7,
   "id": "20209815",
   "metadata": {},
   "outputs": [],
   "source": [
    "# plt.figure()\n",
    "\n",
    "# # plt.plot(df1['no of cycle'],df1[\"100 kpa\"][:],'o:r',label='100 kpa Mas')\n",
    "# # plt.plot(df1['no of cycle'],df1[\"200 kpa\"][:],'o:b',label='200 kpa Mas')\n",
    "# # plt.plot(df1['no of cycle'],df1[\"500 kpa\"][:],'o:g','go',label='500 kpa Mas')\n",
    "\n",
    "# # compaction\n",
    "# plt.plot(df1['no of cycle'][:7:2],df1[\"200 kpa\"][:7][:7:2],'o:b',label='Dc 82%')\n",
    "# plt.plot(df3['no of cycle'][::2],df3[\"s-82%\"][::2],'o:c',label='Dc 82%')\n",
    "# plt.plot(df3['no of cycle'][::2],df3[\"s-87%\"][::2],'o:m',label='Dc 87%')\n",
    "\n",
    "# plt.xlabel('Dry/Wet cycle')\n",
    "# plt.ylabel('Vertical strain(%)')\n",
    "# plt.legend(loc='best',framealpha=0.25,ncol=2)\n",
    "# plt.xlim(0,4)\n",
    "# plt.ylim(0,30)\n",
    "# plt.grid(True)\n",
    "# plt.show()\n"
   ]
  },
  {
   "cell_type": "code",
   "execution_count": null,
   "id": "524f8f88",
   "metadata": {},
   "outputs": [],
   "source": []
  },
  {
   "cell_type": "code",
   "execution_count": null,
   "id": "b6d68c04",
   "metadata": {},
   "outputs": [],
   "source": []
  },
  {
   "cell_type": "code",
   "execution_count": 48,
   "id": "8d315a57",
   "metadata": {},
   "outputs": [],
   "source": [
    "# # breakage of 3 points\n",
    "# Br_100=[relative_br(df2['seive'],df2['100-1cy']),relative_br(df2['seive'],df2['100-5cy']),relative_br(df2['seive'],df2['100-9cy'])]\n",
    "# Br_200=[relative_br(df2['seive'],df2['200-1cy']),relative_br(df2['seive'],df2['200-5cy']),relative_br(df2['seive'],df2['200-9cy'])]\n",
    "# Br_500=[relative_br(df2['seive'],df2['500-1cy']),relative_br(df2['seive'],df2['500-5cy']),relative_br(df2['seive'],df2['500-9cy'])]\n",
    "# # strain of those point\n",
    "# #strain_100=[(df1.loc[df1['no of cycle']==1, '100 kpa'].iloc[0]),(df1.loc[df1['no of cycle']==5, '100 kpa'].iloc[0]),(df1.loc[df1['no of cycle']==9, '100 kpa'].iloc[0])]\n",
    "# #strain_200=[(df1.loc[df1['no of cycle']==1, '200 kpa'].iloc[0]),(df1.loc[df1['no of cycle']==5, '200 kpa'].iloc[0]),(df1.loc[df1['no of cycle']==9, '200 kpa'].iloc[0])]\n",
    "# #strain_500=[(df1.loc[df1['no of cycle']==1, '500 kpa'].iloc[0]),(df1.loc[df1['no of cycle']==5, '500 kpa'].iloc[0]),(df1.loc[df1['no of cycle']==9, '500 kpa'].iloc[0])]\n",
    "# # cumulative e\n",
    "# e_cum_100_159=[e_cum_100[1],e_cum_100[5],e_cum_100[9]]\n",
    "# e_cum_200_159=[e_cum_200[1],e_cum_200[5],e_cum_200[9]]\n",
    "# e_cum_500_159=[e_cum_500[1],e_cum_500[5],e_cum_500[9]]"
   ]
  },
  {
   "cell_type": "code",
   "execution_count": null,
   "id": "9843581c",
   "metadata": {},
   "outputs": [],
   "source": []
  },
  {
   "cell_type": "code",
   "execution_count": null,
   "id": "e081ce16",
   "metadata": {},
   "outputs": [],
   "source": []
  },
  {
   "cell_type": "code",
   "execution_count": 12,
   "id": "cc1b143f",
   "metadata": {},
   "outputs": [
    {
     "data": {
      "text/plain": [
       "array([0.3029756, 0.1190056, 0.0705856, 0.0436856, 0.0264696, 0.0135576,\n",
       "       0.0049496, 0.0017216, 0.0006456])"
      ]
     },
     "execution_count": 12,
     "metadata": {},
     "output_type": "execute_result"
    }
   ],
   "source": [
    "\n",
    "t1_100[:-1]\n",
    "\n"
   ]
  },
  {
   "cell_type": "code",
   "execution_count": 23,
   "id": "459542fd",
   "metadata": {},
   "outputs": [
    {
     "data": {
      "image/png": "[encoded data removed]",
      "text/plain": [
       "<Figure size 432x288 with 2 Axes>"
      ]
     },
     "metadata": {
      "needs_background": "light"
     },
     "output_type": "display_data"
    }
   ],
   "source": [
    "plt.rcParams.update({'font.size': 14})\n",
    "\n",
    "\n",
    "\n",
    "\n",
    "#########################\n",
    "fig5,(ax5e,ax5d)=plt.subplots(1,2)\n",
    "# breakage of particle \n",
    "ax5d.plot(np.ones(len(t1_100[:-1]))*100,t2_100, color='green', marker=\"o\", linestyle='-',linewidth=0, markersize=5, label='Erod 100')\n",
    "ax5d.plot(np.ones(len(t1_200[:-1]))*200,t2_200,color='b', marker=\"o\", linestyle='-',linewidth=0, markersize=5, label='Erod 200')\n",
    "ax5d.plot(np.ones(len(t1_500[:-1]))*500,t2_500,color='r', marker=\"o\", linestyle='-',linewidth=0, markersize=5, label='Erod 500')\n",
    "# ax5d.legend(loc='upper left',framealpha=0.25)\n",
    "ax5d.grid(which='major', linestyle='-', linewidth='0.5', color='red')\n",
    "ax5d.grid(which='minor', linestyle=':', linewidth='0.5', color='black')\n",
    "ax5d.set_ylabel('void reduction',fontweight='bold')\n",
    "ax5d.set_xlabel('axian loading ',fontweight='bold')\n",
    "# ax5d.set_ylim(-0.1,1)\n",
    "ax5d.xaxis.set_major_locator(MultipleLocator(100))\n",
    "ax5d.xaxis.set_minor_locator(MultipleLocator(50))\n",
    "ax5d.yaxis.set_major_locator(MultipleLocator(0.2))\n",
    "ax5d.yaxis.set_minor_locator(MultipleLocator(0.1))\n",
    "# cumulative of voids \n",
    "ax5e.plot(t1_100[:-1],t2_100, color='green', marker=\"o\", linestyle='-',linewidth=0, markersize=5, label='Erod 100')\n",
    "ax5e.plot(t1_200[:-1],t2_200,color='b', marker=\"o\", linestyle='-',linewidth=0, markersize=5, label='Erod 200')\n",
    "ax5e.plot(t1_500[:-1],t2_500, color='r', marker=\"o\", linestyle='-',linewidth=0, markersize=5, label='Erod 500')\n",
    "# ax5e.plot(t1_82[:-1],t2_82, color='c', marker=\"o\", linestyle='-',linewidth=0, markersize=5, label='Dc 82%')\n",
    "# ax5e.plot(t1_87[:-1],t2_87, color='m', marker=\"o\", linestyle='-',linewidth=0, markersize=5, label='Dc 87%')\n",
    "# ax5e.legend(loc='upper left',framealpha=0.25)\n",
    "ax5e.grid(which='major', linestyle='-', linewidth='0.5', color='red')\n",
    "ax5e.grid(which='minor', linestyle=':', linewidth='0.5', color='black')\n",
    "ax5e.set_ylabel('void reduction',fontweight='bold')\n",
    "ax5e.set_xlabel('initial void ',fontweight='bold')\n",
    "ax5e.xaxis.set_major_locator(MultipleLocator(0.2))\n",
    "ax5e.xaxis.set_minor_locator(MultipleLocator(0.1))\n",
    "ax5e.yaxis.set_major_locator(MultipleLocator(0.2))\n",
    "ax5e.yaxis.set_minor_locator(MultipleLocator(0.1))\n",
    "\n",
    "# voids vs cycle\n",
    "# e_cy_100= e_cum_100[:-1]-e_cum_100[1:]\n",
    "# e_cy_200= e_cum_200[:-1]-e_cum_200[1:]\n",
    "# e_cy_1500= e_cum_500[:-1]-e_cum_500[1:]\n",
    "\n",
    "\n",
    "fig5.tight_layout()\n",
    "plt.show()\n"
   ]
  },
  {
   "cell_type": "code",
   "execution_count": 56,
   "id": "bde1542e",
   "metadata": {},
   "outputs": [],
   "source": [
    "zdata"
   ]
  },
  {
   "cell_type": "code",
   "execution_count": 57,
   "id": "06a7d743",
   "metadata": {},
   "outputs": [],
   "source": [
    "zdata = [].append(a[i][1] for i in range(len(t2_100)))"
   ]
  },
  {
   "cell_type": "code",
   "execution_count": 49,
   "id": "296735c4",
   "metadata": {},
   "outputs": [],
   "source": [
    "a=[]\n",
    "for i in range(len(t2_100)):\n",
    "    a.append(np.hstack([t1_100[:-1][i],l_100[i],t2_100[i]]))\n",
    "    \n",
    "    "
   ]
  },
  {
   "cell_type": "code",
   "execution_count": 60,
   "id": "0631dd29",
   "metadata": {},
   "outputs": [
    {
     "data": {
      "image/png": "[encoded data removed]",
      "text/plain": [
       "<Figure size 432x288 with 1 Axes>"
      ]
     },
     "metadata": {
      "needs_background": "light"
     },
     "output_type": "display_data"
    }
   ],
   "source": [
    "%matplotlib inline\n",
    "import numpy as np\n",
    "import matplotlib.pyplot as plt\n",
    "fig = plt.figure()\n",
    "ax = plt.axes(projection='3d')\n",
    "ax = plt.axes(projection='3d')\n",
    "\n",
    "# Data for a three-dimensional line\n",
    "zline = np.linspace(0, 0.4, 5)\n",
    "xline = np.linspace(0, 600, 5)\n",
    "yline = np.linspace(0, 0.3, 5)\n",
    "ax.plot3D(xline, yline, zline, 'gray')\n",
    "\n",
    "# Data for three-dimensional scattered points\n",
    "zdata=[]\n",
    "ydata=[]\n",
    "xdata=[]\n",
    "for i in range(len(t2_100)):\n",
    "    xdata.append(a[i][0])\n",
    "    ydata.append(a[i][1])\n",
    "    zdata.append(a[i][2])\n",
    "\n",
    "\n",
    "\n",
    "ax.scatter3D(xdata, ydata, zdata, c=zdata, cmap='Greens');"
   ]
  },
  {
   "cell_type": "code",
   "execution_count": 149,
   "id": "417103be",
   "metadata": {},
   "outputs": [
    {
     "ename": "SyntaxError",
     "evalue": "unexpected EOF while parsing (<ipython-input-149-81009808274a>, line 4)",
     "output_type": "error",
     "traceback": [
      "\u001b[1;36m  File \u001b[1;32m\"<ipython-input-149-81009808274a>\"\u001b[1;36m, line \u001b[1;32m4\u001b[0m\n\u001b[1;33m    popt,_ = curve_fit(objective,(voids, voids_reduction)\u001b[0m\n\u001b[1;37m                                                         ^\u001b[0m\n\u001b[1;31mSyntaxError\u001b[0m\u001b[1;31m:\u001b[0m unexpected EOF while parsing\n"
     ]
    }
   ],
   "source": [
    "from scipy.optimize import curve_fit\n",
    "def objective(x, a, b, c,d,e):\n",
    "\treturn (a * x**3) + (b * x**4) + c*x**2 + d*x + e\n",
    "popt,_ = curve_fit(objective,(voids, voids_reduction)"
   ]
  },
  {
   "cell_type": "code",
   "execution_count": 143,
   "id": "b4ab529a",
   "metadata": {},
   "outputs": [
    {
     "ename": "SyntaxError",
     "evalue": "invalid syntax (<ipython-input-143-7399a761630f>, line 5)",
     "output_type": "error",
     "traceback": [
      "\u001b[1;36m  File \u001b[1;32m\"<ipython-input-143-7399a761630f>\"\u001b[1;36m, line \u001b[1;32m5\u001b[0m\n\u001b[1;33m    a, b, c,d,e=popt\u001b[0m\n\u001b[1;37m    ^\u001b[0m\n\u001b[1;31mSyntaxError\u001b[0m\u001b[1;31m:\u001b[0m invalid syntax\n"
     ]
    }
   ],
   "source": [
    "from scipy.optimize import curve_fit\n",
    "def objective(x, a, b, c,d,e):\n",
    "\treturn (a * x**3) + (b * x**4) + c*x**2 + d*x + e\n",
    "popt,_ = curve_fit(objective,(voids, voids_reduction)\n",
    "a, b, c,d,e = popt \n",
    "# three particle curve fitting \n",
    "min_x3, max_x3 = min(voids), max(voids)  \n",
    "new_x3 = np.linspace(min_x3,max_x3,20)\n",
    "new_y3=objective(new_x3, a3, b3, c3,d3,e3)\n",
    "# ax4.plot(new_x3,new_y3,color='black', marker='o', linestyle='-',linewidth=2, markersize=0, label='Dense-3par')"
   ]
  },
  {
   "cell_type": "code",
   "execution_count": 147,
   "id": "aee1ba22",
   "metadata": {},
   "outputs": [],
   "source": [
    "voids=np.concatenate([t1_100[:-1],t1_200[:-1],t1_500[:-1]])\n",
    "voids_reduction=np.concatenate([t2_100,t2_200,t2_500])\n",
    "                      "
   ]
  },
  {
   "cell_type": "code",
   "execution_count": 148,
   "id": "9574a78a",
   "metadata": {},
   "outputs": [
    {
     "data": {
      "text/plain": [
       "array([0.3029756, 0.1190056, 0.0705856, 0.0436856, 0.0264696, 0.0135576,\n",
       "       0.0049496, 0.0017216, 0.0006456, 0.38878  , 0.151716 , 0.097916 ,\n",
       "       0.065636 , 0.038736 , 0.022596 , 0.011836 , 0.00538  , 0.001076 ,\n",
       "       0.498536 , 0.178616 , 0.120512 , 0.083928 , 0.0538   , 0.03228  ,\n",
       "       0.019368 , 0.008608 , 0.002152 ])"
      ]
     },
     "execution_count": 148,
     "metadata": {},
     "output_type": "execute_result"
    }
   ],
   "source": [
    "voids"
   ]
  },
  {
   "cell_type": "markdown",
   "id": "811580c1",
   "metadata": {},
   "source": [
    "# relative voids from NC line"
   ]
  },
  {
   "cell_type": "code",
   "execution_count": 73,
   "id": "35a0b714",
   "metadata": {},
   "outputs": [
    {
     "ename": "ValueError",
     "evalue": "operands could not be broadcast together with shapes (10,) (9,) ",
     "output_type": "error",
     "traceback": [
      "\u001b[1;31m---------------------------------------------------------------------------\u001b[0m",
      "\u001b[1;31mValueError\u001b[0m                                Traceback (most recent call last)",
      "\u001b[1;32m<ipython-input-73-e74fe41408e6>\u001b[0m in \u001b[0;36m<module>\u001b[1;34m\u001b[0m\n\u001b[0;32m      3\u001b[0m \u001b[1;31m# r_e_500= -(t0_500[1:]-t0_500[:-1])[1:]/((t1_500[1:-1])**1.2)\u001b[0m\u001b[1;33m\u001b[0m\u001b[1;33m\u001b[0m\u001b[1;33m\u001b[0m\u001b[0m\n\u001b[0;32m      4\u001b[0m \u001b[1;33m\u001b[0m\u001b[0m\n\u001b[1;32m----> 5\u001b[1;33m \u001b[0mr_e_100\u001b[0m\u001b[1;33m=\u001b[0m \u001b[1;33m-\u001b[0m\u001b[1;33m(\u001b[0m\u001b[0mt0_100\u001b[0m\u001b[1;33m[\u001b[0m\u001b[1;33m:\u001b[0m\u001b[1;33m]\u001b[0m\u001b[1;33m-\u001b[0m\u001b[0mt0_100\u001b[0m\u001b[1;33m[\u001b[0m\u001b[1;33m:\u001b[0m\u001b[1;33m-\u001b[0m\u001b[1;36m1\u001b[0m\u001b[1;33m]\u001b[0m\u001b[1;33m)\u001b[0m\u001b[1;33m[\u001b[0m\u001b[1;36m1\u001b[0m\u001b[1;33m:\u001b[0m\u001b[1;33m]\u001b[0m\u001b[1;33m\u001b[0m\u001b[1;33m\u001b[0m\u001b[0m\n\u001b[0m\u001b[0;32m      6\u001b[0m \u001b[0mr_e_200\u001b[0m\u001b[1;33m=\u001b[0m \u001b[1;33m-\u001b[0m\u001b[1;33m(\u001b[0m\u001b[0mt0_200\u001b[0m\u001b[1;33m[\u001b[0m\u001b[1;36m1\u001b[0m\u001b[1;33m:\u001b[0m\u001b[1;33m]\u001b[0m\u001b[1;33m-\u001b[0m\u001b[0mt0_200\u001b[0m\u001b[1;33m[\u001b[0m\u001b[1;33m:\u001b[0m\u001b[1;33m-\u001b[0m\u001b[1;36m1\u001b[0m\u001b[1;33m]\u001b[0m\u001b[1;33m)\u001b[0m\u001b[1;33m[\u001b[0m\u001b[1;36m1\u001b[0m\u001b[1;33m:\u001b[0m\u001b[1;33m]\u001b[0m\u001b[1;33m\u001b[0m\u001b[1;33m\u001b[0m\u001b[0m\n\u001b[0;32m      7\u001b[0m \u001b[0mr_e_500\u001b[0m\u001b[1;33m=\u001b[0m \u001b[1;33m-\u001b[0m\u001b[1;33m(\u001b[0m\u001b[0mt0_500\u001b[0m\u001b[1;33m[\u001b[0m\u001b[1;36m1\u001b[0m\u001b[1;33m:\u001b[0m\u001b[1;33m]\u001b[0m\u001b[1;33m-\u001b[0m\u001b[0mt0_500\u001b[0m\u001b[1;33m[\u001b[0m\u001b[1;33m:\u001b[0m\u001b[1;33m-\u001b[0m\u001b[1;36m1\u001b[0m\u001b[1;33m]\u001b[0m\u001b[1;33m)\u001b[0m\u001b[1;33m[\u001b[0m\u001b[1;36m1\u001b[0m\u001b[1;33m:\u001b[0m\u001b[1;33m]\u001b[0m\u001b[1;33m\u001b[0m\u001b[1;33m\u001b[0m\u001b[0m\n",
      "\u001b[1;31mValueError\u001b[0m: operands could not be broadcast together with shapes (10,) (9,) "
     ]
    }
   ],
   "source": [
    "# r_e_100= -(t0_100[1:]-t0_100[:-1])[1:]/((t1_100[1:-1])**1.2)\n",
    "# r_e_200= -(t0_200[1:]-t0_200[:-1])[1:2]/((t1_200[1:-3])**1.2)\n",
    "# r_e_500= -(t0_500[1:]-t0_500[:-1])[1:]/((t1_500[1:-1])**1.2) \n",
    "\n",
    "r_e_100= -(t0_100[:]-t0_100[:-1])[1:]\n",
    "r_e_200= -(t0_200[1:]-t0_200[:-1])[1:]\n",
    "r_e_500= -(t0_500[1:]-t0_500[:-1])[1:]"
   ]
  },
  {
   "cell_type": "code",
   "execution_count": null,
   "id": "cb59e29d",
   "metadata": {},
   "outputs": [],
   "source": []
  },
  {
   "cell_type": "code",
   "execution_count": null,
   "id": "1aa12916",
   "metadata": {},
   "outputs": [],
   "source": []
  },
  {
   "cell_type": "markdown",
   "id": "db786c81",
   "metadata": {},
   "source": [
    "# gekko moldel \n",
    "## import/data setting \n"
   ]
  },
  {
   "cell_type": "code",
   "execution_count": 30,
   "id": "a517a4b1",
   "metadata": {},
   "outputs": [
    {
     "ename": "NameError",
     "evalue": "name 'e_cum_100' is not defined",
     "output_type": "error",
     "traceback": [
      "\u001b[1;31m---------------------------------------------------------------------------\u001b[0m",
      "\u001b[1;31mNameError\u001b[0m                                 Traceback (most recent call last)",
      "\u001b[1;32m<ipython-input-30-fd34586bbf20>\u001b[0m in \u001b[0;36m<module>\u001b[1;34m\u001b[0m\n\u001b[0;32m      1\u001b[0m \u001b[1;32mfrom\u001b[0m \u001b[0mgekko\u001b[0m \u001b[1;32mimport\u001b[0m \u001b[0mGEKKO\u001b[0m\u001b[1;33m\u001b[0m\u001b[1;33m\u001b[0m\u001b[0m\n\u001b[1;32m----> 2\u001b[1;33m \u001b[0me_in\u001b[0m\u001b[1;33m=\u001b[0m\u001b[0mnp\u001b[0m\u001b[1;33m.\u001b[0m\u001b[0mconcatenate\u001b[0m\u001b[1;33m(\u001b[0m\u001b[1;33m[\u001b[0m\u001b[0mnp\u001b[0m\u001b[1;33m.\u001b[0m\u001b[0mones\u001b[0m\u001b[1;33m(\u001b[0m\u001b[0mlen\u001b[0m\u001b[1;33m(\u001b[0m\u001b[0me_cum_100\u001b[0m\u001b[1;33m[\u001b[0m\u001b[1;36m0\u001b[0m\u001b[1;33m:\u001b[0m\u001b[1;33m-\u001b[0m\u001b[1;36m1\u001b[0m\u001b[1;33m]\u001b[0m\u001b[1;33m)\u001b[0m\u001b[1;33m)\u001b[0m\u001b[1;33m*\u001b[0m\u001b[0me_cum_100\u001b[0m\u001b[1;33m[\u001b[0m\u001b[1;36m0\u001b[0m\u001b[1;33m]\u001b[0m\u001b[1;33m,\u001b[0m\u001b[0mnp\u001b[0m\u001b[1;33m.\u001b[0m\u001b[0mones\u001b[0m\u001b[1;33m(\u001b[0m\u001b[0mlen\u001b[0m\u001b[1;33m(\u001b[0m\u001b[0me_cum_500\u001b[0m\u001b[1;33m[\u001b[0m\u001b[1;36m0\u001b[0m\u001b[1;33m:\u001b[0m\u001b[1;33m-\u001b[0m\u001b[1;36m1\u001b[0m\u001b[1;33m]\u001b[0m\u001b[1;33m)\u001b[0m\u001b[1;33m)\u001b[0m\u001b[1;33m*\u001b[0m\u001b[0me_cum_500\u001b[0m\u001b[1;33m[\u001b[0m\u001b[1;36m0\u001b[0m\u001b[1;33m]\u001b[0m\u001b[1;33m]\u001b[0m\u001b[1;33m)\u001b[0m\u001b[1;31m#e for collopse (after loading )\u001b[0m\u001b[1;33m\u001b[0m\u001b[1;33m\u001b[0m\u001b[0m\n\u001b[0m\u001b[0;32m      3\u001b[0m \u001b[0mL_in\u001b[0m\u001b[1;33m=\u001b[0m\u001b[0mnp\u001b[0m\u001b[1;33m.\u001b[0m\u001b[0mconcatenate\u001b[0m\u001b[1;33m(\u001b[0m\u001b[1;33m[\u001b[0m\u001b[0mnp\u001b[0m\u001b[1;33m.\u001b[0m\u001b[0mones\u001b[0m\u001b[1;33m(\u001b[0m\u001b[0mlen\u001b[0m\u001b[1;33m(\u001b[0m\u001b[0me_cum_100\u001b[0m\u001b[1;33m[\u001b[0m\u001b[1;36m0\u001b[0m\u001b[1;33m:\u001b[0m\u001b[1;33m-\u001b[0m\u001b[1;36m1\u001b[0m\u001b[1;33m]\u001b[0m\u001b[1;33m)\u001b[0m\u001b[1;33m)\u001b[0m\u001b[1;33m*\u001b[0m\u001b[1;36m100\u001b[0m\u001b[1;33m,\u001b[0m\u001b[0mnp\u001b[0m\u001b[1;33m.\u001b[0m\u001b[0mones\u001b[0m\u001b[1;33m(\u001b[0m\u001b[0mlen\u001b[0m\u001b[1;33m(\u001b[0m\u001b[0me_cum_500\u001b[0m\u001b[1;33m[\u001b[0m\u001b[1;36m0\u001b[0m\u001b[1;33m:\u001b[0m\u001b[1;33m-\u001b[0m\u001b[1;36m1\u001b[0m\u001b[1;33m]\u001b[0m\u001b[1;33m)\u001b[0m\u001b[1;33m)\u001b[0m\u001b[1;33m*\u001b[0m\u001b[1;36m500\u001b[0m\u001b[1;33m]\u001b[0m\u001b[1;33m)\u001b[0m\u001b[1;33m/\u001b[0m\u001b[1;36m1000\u001b[0m\u001b[1;33m\u001b[0m\u001b[1;33m\u001b[0m\u001b[0m\n\u001b[0;32m      4\u001b[0m \u001b[0mL_cy\u001b[0m\u001b[1;33m=\u001b[0m\u001b[0mnp\u001b[0m\u001b[1;33m.\u001b[0m\u001b[0mconcatenate\u001b[0m\u001b[1;33m(\u001b[0m\u001b[1;33m[\u001b[0m\u001b[0mnp\u001b[0m\u001b[1;33m.\u001b[0m\u001b[0mones\u001b[0m\u001b[1;33m(\u001b[0m\u001b[0mlen\u001b[0m\u001b[1;33m(\u001b[0m\u001b[0me_cum_100\u001b[0m\u001b[1;33m[\u001b[0m\u001b[1;36m0\u001b[0m\u001b[1;33m:\u001b[0m\u001b[1;33m-\u001b[0m\u001b[1;36m1\u001b[0m\u001b[1;33m]\u001b[0m\u001b[1;33m)\u001b[0m\u001b[1;33m)\u001b[0m\u001b[1;33m*\u001b[0m\u001b[1;36m100\u001b[0m\u001b[1;33m,\u001b[0m\u001b[0mnp\u001b[0m\u001b[1;33m.\u001b[0m\u001b[0mones\u001b[0m\u001b[1;33m(\u001b[0m\u001b[0mlen\u001b[0m\u001b[1;33m(\u001b[0m\u001b[0me_cum_500\u001b[0m\u001b[1;33m[\u001b[0m\u001b[1;36m0\u001b[0m\u001b[1;33m:\u001b[0m\u001b[1;33m-\u001b[0m\u001b[1;36m1\u001b[0m\u001b[1;33m]\u001b[0m\u001b[1;33m)\u001b[0m\u001b[1;33m)\u001b[0m\u001b[1;33m*\u001b[0m\u001b[1;36m500\u001b[0m\u001b[1;33m]\u001b[0m\u001b[1;33m)\u001b[0m\u001b[1;33m/\u001b[0m\u001b[1;36m1000\u001b[0m\u001b[1;33m\u001b[0m\u001b[1;33m\u001b[0m\u001b[0m\n\u001b[0;32m      5\u001b[0m \u001b[0me_cy\u001b[0m\u001b[1;33m=\u001b[0m\u001b[0mnp\u001b[0m\u001b[1;33m.\u001b[0m\u001b[0mconcatenate\u001b[0m\u001b[1;33m(\u001b[0m\u001b[1;33m[\u001b[0m\u001b[0me_cum_100\u001b[0m\u001b[1;33m[\u001b[0m\u001b[1;36m0\u001b[0m\u001b[1;33m:\u001b[0m\u001b[1;33m-\u001b[0m\u001b[1;36m1\u001b[0m\u001b[1;33m]\u001b[0m\u001b[1;33m-\u001b[0m\u001b[0me_cum_100\u001b[0m\u001b[1;33m[\u001b[0m\u001b[1;36m0\u001b[0m\u001b[1;33m]\u001b[0m\u001b[1;33m,\u001b[0m\u001b[0me_cum_500\u001b[0m\u001b[1;33m[\u001b[0m\u001b[1;36m0\u001b[0m\u001b[1;33m:\u001b[0m\u001b[1;33m-\u001b[0m\u001b[1;36m1\u001b[0m\u001b[1;33m]\u001b[0m\u001b[1;33m-\u001b[0m\u001b[0me_cum_500\u001b[0m\u001b[1;33m[\u001b[0m\u001b[1;36m0\u001b[0m\u001b[1;33m]\u001b[0m\u001b[1;33m]\u001b[0m\u001b[1;33m)\u001b[0m\u001b[1;33m\u001b[0m\u001b[1;33m\u001b[0m\u001b[0m\n",
      "\u001b[1;31mNameError\u001b[0m: name 'e_cum_100' is not defined"
     ]
    }
   ],
   "source": [
    "from gekko import GEKKO\n",
    "e_in=np.concatenate([np.ones(len(e_cum_100[0:-1]))*e_cum_100[0],np.ones(len(e_cum_500[0:-1]))*e_cum_500[0]])#e for collopse (after loading )\n",
    "L_in=np.concatenate([np.ones(len(e_cum_100[0:-1]))*100,np.ones(len(e_cum_500[0:-1]))*500])/1000\n",
    "L_cy=np.concatenate([np.ones(len(e_cum_100[0:-1]))*100,np.ones(len(e_cum_500[0:-1]))*500])/1000\n",
    "e_cy=np.concatenate([e_cum_100[0:-1]-e_cum_100[0],e_cum_500[0:-1]-e_cum_500[0]])\n",
    "s_t_cy=np.concatenate([s_cum_100[1:],s_cum_500[1:]])"
   ]
  },
  {
   "cell_type": "code",
   "execution_count": 29,
   "id": "93e7596a",
   "metadata": {},
   "outputs": [
    {
     "ename": "NameError",
     "evalue": "name 'L_in' is not defined",
     "output_type": "error",
     "traceback": [
      "\u001b[1;31m---------------------------------------------------------------------------\u001b[0m",
      "\u001b[1;31mNameError\u001b[0m                                 Traceback (most recent call last)",
      "\u001b[1;32m<ipython-input-29-485386cc3c1a>\u001b[0m in \u001b[0;36m<module>\u001b[1;34m\u001b[0m\n\u001b[1;32m----> 1\u001b[1;33m \u001b[0mL_in\u001b[0m\u001b[1;33m\u001b[0m\u001b[1;33m\u001b[0m\u001b[0m\n\u001b[0m",
      "\u001b[1;31mNameError\u001b[0m: name 'L_in' is not defined"
     ]
    }
   ],
   "source": [
    "L_in"
   ]
  },
  {
   "cell_type": "markdown",
   "id": "c9c75da3",
   "metadata": {},
   "source": [
    "L_in_cy=np.concatenate([np.ones(len(e_cum_100[0:-1]))*100],[np.ones(len(e_cum_200[0:-1]))*200],[np.ones(len(e_cum_500[0:-1]))*500])\n",
    "e_cy=np.concatenate([e_cum_100[0:-1]-e_cum_100[0],e_cum_200[0:-1]-e_cum_200[0],e_cum_500[0:-1]-e_cum_500[0]])\n",
    "s_t_cy=np.concatenate([s_cum_100[1:],s_cum_200[1:],s_cum_500[1:]])"
   ]
  },
  {
   "cell_type": "markdown",
   "id": "5d5be2f6",
   "metadata": {},
   "source": [
    "## define the variable "
   ]
  },
  {
   "cell_type": "code",
   "execution_count": 75,
   "id": "7ce12815",
   "metadata": {},
   "outputs": [],
   "source": [
    "cof_load=np.concatenate([np.ones(len(t1_100[:-1]))*100,np.ones(len(t1_500[:-1]))*500])\n",
    "cof_e=np.concatenate([t1_100[:-1],t1_500[:-1]])\n",
    "cof_strain=np.concatenate([s1_100[:], s1_500[:]])\n",
    "cof_e[0]=0\n",
    "cof_e[9]=0\n",
    "\n",
    "\n",
    "cof_e_in=np.zeros(len(cof_e))\n",
    "cof_e_in[0]=e_in[0]\n",
    "cof_e_in[9]=e_in[9]\n"
   ]
  },
  {
   "cell_type": "code",
   "execution_count": 76,
   "id": "3764df0a",
   "metadata": {},
   "outputs": [],
   "source": [
    "xm1 = np.array(cof_e) # cumulative voids after the collapse not last one minus the collapse voids\n",
    "xm2 = np.array(L_cy)  # load commmon\n",
    "xm3 = np.array(e_in) # collapase voids\n",
    "xm4= np.array(L_in) \n",
    " \n",
    "ym = np.array(s_t_cy)"
   ]
  },
  {
   "cell_type": "code",
   "execution_count": null,
   "id": "2ab5b3d3",
   "metadata": {},
   "outputs": [],
   "source": [
    "\n"
   ]
  },
  {
   "cell_type": "markdown",
   "id": "6bdab279",
   "metadata": {},
   "source": [
    "xm1"
   ]
  },
  {
   "cell_type": "code",
   "execution_count": null,
   "id": "5860def5",
   "metadata": {},
   "outputs": [],
   "source": []
  },
  {
   "cell_type": "code",
   "execution_count": null,
   "id": "3212ca03",
   "metadata": {},
   "outputs": [],
   "source": []
  },
  {
   "cell_type": "code",
   "execution_count": null,
   "id": "cceb023b",
   "metadata": {},
   "outputs": [],
   "source": [
    "\n"
   ]
  },
  {
   "cell_type": "code",
   "execution_count": null,
   "id": "9e3a9b2a",
   "metadata": {},
   "outputs": [],
   "source": []
  },
  {
   "cell_type": "code",
   "execution_count": null,
   "id": "04c47d62",
   "metadata": {},
   "outputs": [],
   "source": []
  },
  {
   "cell_type": "code",
   "execution_count": null,
   "id": "a382a572",
   "metadata": {},
   "outputs": [],
   "source": []
  },
  {
   "cell_type": "code",
   "execution_count": null,
   "id": "128e3fda",
   "metadata": {},
   "outputs": [],
   "source": []
  },
  {
   "cell_type": "code",
   "execution_count": null,
   "id": "62283e3a",
   "metadata": {},
   "outputs": [],
   "source": []
  },
  {
   "cell_type": "code",
   "execution_count": null,
   "id": "3778cd69",
   "metadata": {},
   "outputs": [],
   "source": []
  },
  {
   "cell_type": "code",
   "execution_count": null,
   "id": "01348605",
   "metadata": {},
   "outputs": [],
   "source": []
  },
  {
   "cell_type": "code",
   "execution_count": null,
   "id": "27620a4b",
   "metadata": {},
   "outputs": [],
   "source": []
  },
  {
   "cell_type": "markdown",
   "id": "ed3ba08f",
   "metadata": {},
   "source": [
    "# only cycle predition"
   ]
  },
  {
   "cell_type": "code",
   "execution_count": 103,
   "id": "4d972ab7",
   "metadata": {},
   "outputs": [],
   "source": [
    "cof_load_cy=np.concatenate([np.ones(len(t1_100[1:-1]))*100,np.ones(len(t1_500[1:-1]))*500])\n",
    "index = [0, 9]\n",
    "cof_e_in=[e_cum_100[0],e_cum_500[0]]\n",
    "cof_load_in=[100,500]\n",
    "cof_strain_in=[s_t_cy[0],s_t_cy[9]]\n",
    "cof_e_cy = np.delete(cof_e, index)\n",
    "cof_strain_cy=np.delete(cof_strain,index)"
   ]
  },
  {
   "cell_type": "code",
   "execution_count": 104,
   "id": "29cd2484",
   "metadata": {},
   "outputs": [
    {
     "data": {
      "text/plain": [
       "(array([0.1190056, 0.0705856, 0.0436856, 0.0264696, 0.0135576, 0.0049496,\n",
       "        0.0017216, 0.0006456, 0.178616 , 0.120512 , 0.083928 , 0.0538   ,\n",
       "        0.03228  , 0.019368 , 0.008608 , 0.002152 ]),\n",
       " array([100., 100., 100., 100., 100., 100., 100., 100., 500., 500., 500.,\n",
       "        500., 500., 500., 500., 500.]),\n",
       " array([2.25, 1.25, 0.8 , 0.6 , 0.4 , 0.15, 0.05, 0.03, 2.7 , 1.7 , 1.4 ,\n",
       "        1.  , 0.6 , 0.5 , 0.3 , 0.1 ]))"
      ]
     },
     "execution_count": 104,
     "metadata": {},
     "output_type": "execute_result"
    }
   ],
   "source": [
    "cof_e_cy,cof_load_cy,cof_strain_cy"
   ]
  },
  {
   "cell_type": "code",
   "execution_count": 105,
   "id": "27003917",
   "metadata": {},
   "outputs": [
    {
     "name": "stdout",
     "output_type": "stream",
     "text": [
      " ----------------------------------------------------------------\n",
      " APMonitor, Version 1.0.0\n",
      " APMonitor Optimization Suite\n",
      " ----------------------------------------------------------------\n",
      " \n",
      " \n",
      " --------- APM Model Size ------------\n",
      " Each time step contains\n",
      "   Objects      :  0\n",
      "   Constants    :  0\n",
      "   Variables    :  7\n",
      "   Intermediates:  0\n",
      "   Connections  :  0\n",
      "   Equations    :  2\n",
      "   Residuals    :  2\n",
      " \n",
      " Number of state variables:    19\n",
      " Number of total equations: -  16\n",
      " Number of slack variables: -  0\n",
      " ---------------------------------------\n",
      " Degrees of freedom       :    3\n",
      " \n",
      " ----------------------------------------------\n",
      " Model Parameter Estimation with APOPT Solver\n",
      " ----------------------------------------------\n",
      " \n",
      " Iter    Objective  Convergence\n",
      "    0  4.49020E+04  1.38987E-01\n",
      "    1  7.56134E+05  5.55112E-17\n",
      "    2  5.87836E+04  1.23797E-01\n",
      "    3  1.18447E+02  2.40490E-01\n",
      "    4  7.91053E+00  4.20294E-04\n",
      "    5  7.72071E+00  3.59126E-05\n",
      "    6  7.44391E+00  7.08561E-04\n",
      "    7  7.35818E+00  1.22140E-03\n",
      "    8  7.35104E+00  8.37746E-05\n",
      "    9  7.33523E+00  1.10088E-06\n",
      " \n",
      " Iter    Objective  Convergence\n",
      "   10  7.33319E+00  1.10064E-05\n",
      "   11  7.33140E+00  1.48702E-06\n",
      "   12  7.32123E+00  2.61315E-07\n",
      "   13  7.30001E+00  2.89721E-06\n",
      "   14  7.23760E+00  4.11654E-06\n",
      "   15  7.07417E+00  1.17627E-05\n",
      "   16  6.62355E+00  3.32095E-05\n",
      "   17  5.47014E+00  1.16140E-04\n",
      "   18  3.51328E+00  1.00254E-03\n",
      "   19  5.50906E+00  6.46547E-03\n",
      " \n",
      " Iter    Objective  Convergence\n",
      "   20  1.67215E+01  4.88817E-01\n",
      "   21  9.41686E+00  3.97531E-02\n",
      "   22  9.09210E+00  1.33321E-03\n",
      "   23  8.85618E+01  2.18116E-03\n",
      "   24  1.67476E+01  1.88634E-02\n",
      "   25  4.74904E+00  3.16146E-02\n",
      "   26  7.32478E+00  1.10403E-02\n",
      "   27  5.50660E+00  5.10630E-03\n",
      "   28  2.18602E+00  6.87620E-03\n",
      "   29  2.01368E+00  2.12372E-04\n",
      " \n",
      " Iter    Objective  Convergence\n",
      "   30  2.25154E+00  3.36047E-05\n",
      "   31  2.70010E+00  4.01204E-04\n",
      "   32  5.87730E+00  3.75866E-04\n",
      "   33  1.98226E+00  5.12708E-05\n",
      "   34  1.00486E+00  1.08672E-04\n",
      "   35  1.42030E+00  2.51759E-01\n",
      "   36  9.87452E-01  2.10977E-02\n",
      "   37  1.48280E+00  1.77199E-02\n",
      "   38  2.05675E+00  1.86446E-02\n",
      "   39  1.87124E+00  1.86076E-02\n",
      " \n",
      " Iter    Objective  Convergence\n",
      "   40  5.11562E-01  9.05689E-02\n",
      "   41  4.19492E-01  7.17055E-03\n",
      "   42  7.40703E-01  8.24379E-04\n",
      "   43  3.33540E-01  2.03087E-02\n",
      "   44  3.26361E-01  3.29910E-04\n",
      "   45  3.24628E-01  9.18240E-05\n",
      "   46  3.24285E-01  1.84677E-05\n",
      "   47  3.24285E-01  8.42769E-10\n",
      "   48  3.24285E-01  1.78263E-12\n",
      "   49  3.24285E-01  7.03215E-13\n",
      " \n",
      " Iter    Objective  Convergence\n",
      "   50  3.24285E-01  7.03215E-13\n",
      " Successful solution\n",
      " \n",
      " ---------------------------------------------------\n",
      " Solver         :  APOPT (v1.0)\n",
      " Solution time  :  0.0324 sec\n",
      " Objective      :  0.3242849989390172\n",
      " Successful solution\n",
      " ---------------------------------------------------\n",
      " \n",
      "\n",
      "a:  0.1\n",
      "b:  0.77781288271\n",
      "c:  5.578270282\n"
     ]
    },
    {
     "data": {
      "image/png": "[encoded data removed]",
      "text/plain": [
       "<Figure size 432x288 with 1 Axes>"
      ]
     },
     "metadata": {
      "needs_background": "light"
     },
     "output_type": "display_data"
    }
   ],
   "source": [
    "xm1 = np.array(cof_load_cy) # cumulative voids after the collapse not last one minus the collapse voids\n",
    "xm2 = np.array(cof_e_cy)\n",
    "ym3 = np.array(cof_strain_cy)\n",
    "\n",
    "m3 = GEKKO(remote=False)\n",
    "\n",
    "a = m3.FV(lb=0.1,ub=100.0)\n",
    "b = m3.FV(lb=0.1,ub=100.0)\n",
    "c = m3.FV(lb=0.1,ub=100.0)\n",
    "\n",
    "\n",
    "x1 = m3.Param(value=xm1)\n",
    "x2 = m3.Param(value=xm2)\n",
    "\n",
    "z3 = m3.Param(value=ym3)\n",
    "y3 = m3.Var()\n",
    "m3.Equation(y3==c*(x1**a)*(x2**b))\n",
    "m3.Minimize(((y3-z3)/z3)**2)\n",
    "# Options\n",
    "\n",
    "a.STATUS = 1\n",
    "b.STATUS = 1\n",
    "c.STATUS = 1\n",
    "\n",
    "\n",
    "m3.options.IMODE = 2\n",
    "m3.options.SOLVER = 1\n",
    "# Solve\n",
    "m3.solve(disp=True)\n",
    "\n",
    "print('a: ', a.value[0])\n",
    "print('b: ', b.value[0])\n",
    "print('c: ', c.value[0])\n",
    "\n",
    "\n",
    "# print('A: ', A.value[0])\n",
    "\n",
    "##################################################################################################\n",
    "cFormula = \"Formula is : \" + \"\\n\" + \\\n",
    "           r\"$e_i^b*L^c + e_{cy}^e*L^f + G $\"\n",
    "\n",
    "from scipy import stats\n",
    "slope, intercept, r_value, p_value, \\\n",
    "       std_err = stats.linregress(ym3,y3)\n",
    "\n",
    "r2 = r_value**2\n",
    "cR2 = \"R^2 correlation = \" + str(r_value**2)\n",
    "# print(cR2)\n",
    "\n",
    "# plot solution\n",
    "plt.figure(1)\n",
    "plt.plot([0,5],[0,5],'k-',label='Measured')\n",
    "plt.plot(ym3,y3,'ro',label='Predicted')\n",
    "plt.xlabel('Measured Outcome (YM)')\n",
    "plt.ylabel('Predicted Outcome (Y)')\n",
    "plt.legend(loc='lower right')\n",
    "\n",
    "plt.text(0,5,'a =' + \"{:.2f}\".format(a.value[0])) \n",
    "plt.text(0,4,'b =' + \"{:.2f}\".format(b.value[0])) \n",
    "plt.text(0,2,'c =' + \"{:.2f}\".format(c.value[0])) \n",
    "\n",
    "\n",
    "\n",
    "plt.text(0,3,r'$R^2$ =' + \"{:.2f}\".format(r_value**2)) \n",
    "plt.text(0,1,cFormula)\n",
    "plt.grid(True)\n",
    "plt.show()\n",
    "cFormula = \"Formula is : \" + \"\\n\" + \\\n",
    "r\"$D * Voids^E * Load^f + G$\"\n",
    "cy_pre=y3\n"
   ]
  },
  {
   "cell_type": "code",
   "execution_count": 106,
   "id": "8273f831",
   "metadata": {},
   "outputs": [
    {
     "data": {
      "text/plain": [
       "([100, 500], [0.3029756, 0.498536], [8.0, 17.0])"
      ]
     },
     "execution_count": 106,
     "metadata": {},
     "output_type": "execute_result"
    }
   ],
   "source": [
    "cof_load_in,cof_e_in,cof_strain_in"
   ]
  },
  {
   "cell_type": "code",
   "execution_count": 107,
   "id": "8b52703b",
   "metadata": {},
   "outputs": [
    {
     "name": "stdout",
     "output_type": "stream",
     "text": [
      " ----------------------------------------------------------------\n",
      " APMonitor, Version 1.0.0\n",
      " APMonitor Optimization Suite\n",
      " ----------------------------------------------------------------\n",
      " \n",
      " \n",
      " --------- APM Model Size ------------\n",
      " Each time step contains\n",
      "   Objects      :  0\n",
      "   Constants    :  0\n",
      "   Variables    :  6\n",
      "   Intermediates:  0\n",
      "   Connections  :  0\n",
      "   Equations    :  2\n",
      "   Residuals    :  2\n",
      " \n",
      " Number of state variables:    4\n",
      " Number of total equations: -  2\n",
      " Number of slack variables: -  0\n",
      " ---------------------------------------\n",
      " Degrees of freedom       :    2\n",
      " \n",
      " ----------------------------------------------\n",
      " Model Parameter Estimation with APOPT Solver\n",
      " ----------------------------------------------\n",
      " \n",
      " Iter    Objective  Convergence\n",
      "    0  2.83629E+00  2.17058E-01\n",
      "    1  1.46719E+00  2.07925E-01\n",
      "    2  2.99058E-01  5.05553E-02\n",
      "    3  1.44645E-01  1.14091E-01\n",
      "    4  6.29961E-01  3.11269E-02\n",
      "    5  4.94111E-03  3.26364E-02\n",
      "    6  5.84100E-03  3.07247E-02\n",
      "    7  1.43054E-03  2.75237E-03\n",
      "    8  1.45788E-03  1.31929E-04\n",
      "    9  1.45564E-03  7.91386E-07\n",
      " \n",
      " Iter    Objective  Convergence\n",
      "   10  1.45564E-03  2.96044E-08\n",
      "   11  1.45564E-03  2.96044E-08\n",
      " Successful solution\n",
      " \n",
      " ---------------------------------------------------\n",
      " Solver         :  APOPT (v1.0)\n",
      " Solution time  :  0.018999999999999996 sec\n",
      " Objective      :  0.0014556443493885572\n",
      " Successful solution\n",
      " ---------------------------------------------------\n",
      " \n",
      "\n",
      "e:  0.47058727734\n",
      "f:  0.1\n",
      "R^2 correlation = 1.0\n"
     ]
    },
    {
     "data": {
      "image/png": "[encoded data removed]",
      "text/plain": [
       "<Figure size 432x288 with 1 Axes>"
      ]
     },
     "metadata": {
      "needs_background": "light"
     },
     "output_type": "display_data"
    }
   ],
   "source": [
    "\n",
    "xm1 = np.array(cof_load_in) # cumulative voids after the collapse not last one minus the collapse voids\n",
    "xm2 = np.array(cof_e_in)\n",
    "ym4 = np.array(cof_strain_in)\n",
    "\n",
    "m4 = GEKKO(remote=False)\n",
    "\n",
    "e = m4.FV(lb=0.1,ub=100.0)\n",
    "f = m4.FV(lb=0.1,ub=100.0)\n",
    "# c = m3.FV(lb=0.1,ub=100.0)\n",
    "\n",
    "\n",
    "x1 = m4.Param(value=xm1)\n",
    "x2 = m4.Param(value=xm2)\n",
    "\n",
    "z4 = m4.Param(value=ym4)\n",
    "y4 = m4.Var()\n",
    "m4.Equation(y4==(x1**e)*(x2**f))\n",
    "m4.Minimize(((y4-z4)/z4)**2)\n",
    "# Options\n",
    "\n",
    "e.STATUS = 1\n",
    "f.STATUS = 1\n",
    "# c.STATUS = 1\n",
    "\n",
    "\n",
    "m4.options.IMODE = 2\n",
    "m4.options.SOLVER = 1\n",
    "# Solve\n",
    "m4.solve(disp=True)\n",
    "\n",
    "print('e: ', e.value[0])\n",
    "print('f: ', f.value[0])\n",
    "# print('c: ', c.value[0])\n",
    "\n",
    "\n",
    "# print('A: ', A.value[0])\n",
    "\n",
    "##################################################################################################\n",
    "cFormula = \"Formula is : \" + \"\\n\" + \\\n",
    "           r\"$e_i^b*L^c + e_{cy}^e*L^f + G $\"\n",
    "\n",
    "from scipy import stats\n",
    "slope, intercept, r_value, p_value, \\\n",
    "       std_err = stats.linregress(ym4,y4)\n",
    "\n",
    "r2 = r_value**2\n",
    "cR2 = \"R^2 correlation = \" + str(r_value**2)\n",
    "print(cR2)\n",
    "\n",
    "# plot solution\n",
    "plt.figure(1)\n",
    "plt.plot([0,17],[0,17],'k-',label='Measured')\n",
    "plt.plot(ym4,y4,'ro',label='Predicted')\n",
    "plt.xlabel('Measured Outcome (YM)')\n",
    "plt.ylabel('Predicted Outcome (Y)')\n",
    "plt.legend(loc='lower right')\n",
    "\n",
    "plt.text(0,5,'e =' + \"{:.2f}\".format(e.value[0])) \n",
    "plt.text(0,4,'f =' + \"{:.2f}\".format(f.value[0])) \n",
    "# plt.text(0,2,'c =' + \"{:.2f}\".format(c.value[0])) \n",
    "\n",
    "\n",
    "\n",
    "plt.text(0,3,r'$R^2$ =' + \"{:.2f}\".format(r_value**2)) \n",
    "plt.text(0,1,cFormula)\n",
    "plt.grid(True)\n",
    "plt.show()\n",
    "cFormula = \"Formula is : \" + \"\\n\" + \\\n",
    "r\"$D * Voids^E * Load^f + G$\""
   ]
  },
  {
   "cell_type": "code",
   "execution_count": 108,
   "id": "0cd80366",
   "metadata": {},
   "outputs": [],
   "source": [
    "pre_100=cy_pre[0:8]\n",
    "\n",
    "pre_500=cy_pre[8:16]\n",
    "pre_100.insert(0,y4[0])\n",
    "\n",
    "pre_500.insert(0,y4[1])\n"
   ]
  },
  {
   "cell_type": "code",
   "execution_count": 109,
   "id": "91524e2f",
   "metadata": {},
   "outputs": [
    {
     "data": {
      "text/plain": [
       "[7.7502430102,\n",
       " 1.6883557699,\n",
       " 1.1246466978,\n",
       " 0.77434976449,\n",
       " 0.52443557563,\n",
       " 0.31166446288,\n",
       " 0.14233328706,\n",
       " 0.062599671132,\n",
       " 0.029190940255]"
      ]
     },
     "execution_count": 109,
     "metadata": {},
     "output_type": "execute_result"
    }
   ],
   "source": [
    "pre_100"
   ]
  },
  {
   "cell_type": "code",
   "execution_count": 110,
   "id": "f9928cdf",
   "metadata": {},
   "outputs": [
    {
     "data": {
      "text/plain": [
       "array([ 8.  , 10.25, 11.5 , 12.3 , 12.9 , 13.3 , 13.45, 13.5 , 13.53])"
      ]
     },
     "execution_count": 110,
     "metadata": {},
     "output_type": "execute_result"
    }
   ],
   "source": [
    "s_cum_100[1:]\n"
   ]
  },
  {
   "cell_type": "code",
   "execution_count": 85,
   "id": "7df9c678",
   "metadata": {},
   "outputs": [
    {
     "ename": "NameError",
     "evalue": "name 'zzz' is not defined",
     "output_type": "error",
     "traceback": [
      "\u001b[1;31m---------------------------------------------------------------------------\u001b[0m",
      "\u001b[1;31mNameError\u001b[0m                                 Traceback (most recent call last)",
      "\u001b[1;32m<ipython-input-85-131521d12231>\u001b[0m in \u001b[0;36m<module>\u001b[1;34m\u001b[0m\n\u001b[1;32m----> 1\u001b[1;33m \u001b[0mzzz\u001b[0m\u001b[1;33m\u001b[0m\u001b[1;33m\u001b[0m\u001b[0m\n\u001b[0m",
      "\u001b[1;31mNameError\u001b[0m: name 'zzz' is not defined"
     ]
    }
   ],
   "source": [
    "zzz"
   ]
  },
  {
   "cell_type": "code",
   "execution_count": 116,
   "id": "8df6f827",
   "metadata": {},
   "outputs": [
    {
     "data": {
      "image/png": "[encoded data removed]",
      "text/plain": [
       "<Figure size 432x288 with 1 Axes>"
      ]
     },
     "metadata": {
      "needs_background": "light"
     },
     "output_type": "display_data"
    },
    {
     "name": "stdout",
     "output_type": "stream",
     "text": [
      "R^2 correlation = 0.9970948696461154\n"
     ]
    },
    {
     "data": {
      "image/png": "[encoded data removed]",
      "text/plain": [
       "<Figure size 432x288 with 1 Axes>"
      ]
     },
     "metadata": {
      "needs_background": "light"
     },
     "output_type": "display_data"
    },
    {
     "data": {
      "text/plain": [
       "'$D * Voids^E * Load^f + G$'"
      ]
     },
     "execution_count": 116,
     "metadata": {},
     "output_type": "execute_result"
    }
   ],
   "source": [
    "plt.figure()\n",
    "\n",
    "plt.plot(np.linspace(1, 9,9),s_cum_100[1:],'ro',label='100 kpa Mas')\n",
    "plt.plot(np.linspace(1, 9,9),s_cum_200[1:],'bo',label='200 kpa Mas')\n",
    "plt.plot(np.linspace(1, 9,9),s_cum_500[1:],'go',label='500 kpa Mas')\n",
    "plt.plot(np.linspace(1, 3,3),s_cum_87[1:],'co',label='82')\n",
    "plt.plot(np.linspace(1, 9,9),np.cumsum(pre_100),'r--',label='100 kpa cal')\n",
    "#plt.plot(np.linspace(1, 9,9),np.cumsum(pre_200),'b--',label='200 kpa cal')\n",
    "plt.plot(np.linspace(1, 9,9),np.cumsum(pre_500),'g--',label='500 kpa cal')\n",
    "plt.plot(np.linspace(1, 9,9),pre_strain(in_e_300,nc_e_300, 9, 300),'g-.',label='300 kpa cal')\n",
    "plt.plot(np.linspace(1, 9,9),pre_strain(in_e_200,nc_e_200, 9, 200),'b-.',label='200 kpa cal')\n",
    "plt.plot(np.linspace(1, 3,3),pre_strain(in_e_82,nc_e_82, 3, 200),'b-.',label='200 kpa cal')\n",
    "pre_strain(in_e_300,nc_e_300, 9, 300)\n",
    "plt.xlabel('Dry/Wet cycle')\n",
    "plt.ylabel('Vertical strain(%)')\n",
    "plt.legend(loc='best',framealpha=0.25,ncol=2)\n",
    "\n",
    "plt.grid(True)\n",
    "plt.show()\n",
    "\n",
    "from scipy import stats\n",
    "slope, intercept, r_value, p_value, \\\n",
    "       std_err = stats.linregress(s_cum_200[1:],pre_strain(in_e_200,nc_e_200, 9, 200))\n",
    "\n",
    "r2 = r_value**2\n",
    "cR2 = \"R^2 correlation = \" + str(r_value**2)\n",
    "print(cR2)\n",
    "\n",
    "# plot solution\n",
    "plt.figure(1)\n",
    "plt.plot([10,18],[10,18],'k-',label='Measured')\n",
    "plt.plot(s_cum_200[1:],pre_strain(in_e_200,nc_e_200, 9, 200),'ro',label='Predicted')\n",
    "plt.xlabel('Measured Outcome (YM)')\n",
    "plt.ylabel('Predicted Outcome (Y)')\n",
    "plt.legend(loc='lower right')\n",
    "\n",
    "# plt.text(0,5,'e =' + \"{:.2f}\".format(e.value[0])) \n",
    "# plt.text(0,4,'f =' + \"{:.2f}\".format(f.value[0])) \n",
    "# plt.text(0,2,'c =' + \"{:.2f}\".format(c.value[0])) \n",
    "\n",
    "\n",
    "\n",
    "plt.text(10,16,r'$R^2$ =' + \"{:.2f}\".format(r_value**2)) \n",
    "# plt.text(0,1,cFormula)\n",
    "plt.grid(True)\n",
    "plt.show()\n",
    "# cFormula = \"Formula is : \" + \"\\n\" + \\\n",
    "r\"$D * Voids^E * Load^f + G$\""
   ]
  },
  {
   "cell_type": "markdown",
   "id": "73f53190",
   "metadata": {},
   "source": [
    "# prediction of 300 kpa"
   ]
  },
  {
   "cell_type": "code",
   "execution_count": 87,
   "id": "9a255509",
   "metadata": {},
   "outputs": [
    {
     "data": {
      "text/plain": [
       "(array([11.  , 13.5 , 15.  , 16.25, 17.  , 17.5 , 17.8 , 18.  , 18.05]),\n",
       " array([10.66683115, 11.96796393, 12.91382583, 13.57579312, 14.01671894,\n",
       "        14.29121552, 14.44594379, 14.51990741, 14.54472469]),\n",
       " 0.9996568769892696)"
      ]
     },
     "execution_count": 87,
     "metadata": {},
     "output_type": "execute_result"
    }
   ],
   "source": [
    "(s_cum_200[1:]),np.array(pre_strain(in_e_200,nc_e_200, 9, 200)),r_value"
   ]
  },
  {
   "cell_type": "code",
   "execution_count": 88,
   "id": "c9455773",
   "metadata": {},
   "outputs": [
    {
     "name": "stdout",
     "output_type": "stream",
     "text": [
      "R^2 correlation = 0.9993138717119397\n"
     ]
    },
    {
     "data": {
      "image/png": "[encoded data removed]",
      "text/plain": [
       "<Figure size 432x288 with 1 Axes>"
      ]
     },
     "metadata": {
      "needs_background": "light"
     },
     "output_type": "display_data"
    },
    {
     "data": {
      "text/plain": [
       "'$D * Voids^E * Load^f + G$'"
      ]
     },
     "execution_count": 88,
     "metadata": {},
     "output_type": "execute_result"
    }
   ],
   "source": [
    "from scipy import stats\n",
    "slope, intercept, r_value, p_value, \\\n",
    "       std_err = stats.linregress(s_cum_200[1:],pre_strain(in_e_200,nc_e_200, 9, 200))\n",
    "\n",
    "r2 = r_value**2\n",
    "cR2 = \"R^2 correlation = \" + str(r_value**2)\n",
    "print(cR2)\n",
    "\n",
    "# plot solution\n",
    "plt.figure(1)\n",
    "plt.plot([10,18],[10,18],'k-',label='Measured')\n",
    "plt.plot(s_cum_200[1:],pre_strain(in_e_200,nc_e_200, 9, 200),'ro',label='Predicted')\n",
    "plt.xlabel('Measured Outcome (YM)')\n",
    "plt.ylabel('Predicted Outcome (Y)')\n",
    "plt.legend(loc='lower right')\n",
    "\n",
    "# plt.text(0,5,'e =' + \"{:.2f}\".format(e.value[0])) \n",
    "# plt.text(0,4,'f =' + \"{:.2f}\".format(f.value[0])) \n",
    "# plt.text(0,2,'c =' + \"{:.2f}\".format(c.value[0])) \n",
    "\n",
    "\n",
    "\n",
    "plt.text(10,16,r'$R^2$ =' + \"{:.2f}\".format(r_value**2)) \n",
    "# plt.text(0,1,cFormula)\n",
    "plt.grid(True)\n",
    "plt.show()\n",
    "# cFormula = \"Formula is : \" + \"\\n\" + \\\n",
    "r\"$D * Voids^E * Load^f + G$\""
   ]
  },
  {
   "cell_type": "code",
   "execution_count": 97,
   "id": "488e230b",
   "metadata": {},
   "outputs": [],
   "source": [
    "df4=pd.read_excel(r\"C:\\Users\\ThinkCentre-M73\\Desktop\\master 2\\python link file\\voids vs load.xlsx\")\n",
    "in_e_300=np.interp(300,df4[\"loading\"],df4[\"voids-load\"])\n",
    "nc_e_300=np.interp(300,[200,500],[t0_200[-1],t0_500[-1]])\n",
    "no_cycle=9\n",
    "load=300"
   ]
  },
  {
   "cell_type": "code",
   "execution_count": 99,
   "id": "e388b68b",
   "metadata": {},
   "outputs": [],
   "source": [
    "in_e_200=np.interp(200,df4[\"loading\"],df4[\"voids-load\"])\n",
    "nc_e_200=0.7162\n",
    "no_cycle=9\n",
    "load=200"
   ]
  },
  {
   "cell_type": "code",
   "execution_count": 100,
   "id": "3aa225ef",
   "metadata": {},
   "outputs": [],
   "source": [
    "in_e_82=df3['e-82%'][0]\n",
    "nc_e_82=0.7162\n",
    "no_cycle=3\n",
    "load=200"
   ]
  },
  {
   "cell_type": "code",
   "execution_count": 115,
   "id": "3be997ce",
   "metadata": {},
   "outputs": [
    {
     "data": {
      "text/plain": [
       "(1.0082876712328768, 1.1057963871128824)"
      ]
     },
     "execution_count": 115,
     "metadata": {},
     "output_type": "execute_result"
    }
   ],
   "source": [
    "in_e_82,in_e_200"
   ]
  },
  {
   "cell_type": "code",
   "execution_count": 102,
   "id": "933cf64f",
   "metadata": {},
   "outputs": [],
   "source": [
    "def pre_strain (in_e,nc_e,no_cycle,load):\n",
    "    strain_pre=[]\n",
    "    \n",
    "    # initial strain\n",
    "    str_in=load**0.47*(in_e-nc_e)**0.1\n",
    "    strain_pre.insert(0,str_in)\n",
    "    ini1=[]\n",
    "    ini=in_e*(1-((str_in)/100))-(str_in)/100\n",
    "    for i in range(no_cycle-1):\n",
    "        strain_pre.append(strain_pre[i]+5.61*load**0.1*(ini-nc_e)**0.78)\n",
    "        ini=in_e*(1-((strain_pre[i+1])/100))-(strain_pre[i+1])/100\n",
    "        ini1.append(in_e*(1-(strain_pre[i+1])/97)-(strain_pre[i+1])/97)\n",
    "    return strain_pre\n",
    "        \n",
    "        \n",
    "    \n"
   ]
  },
  {
   "cell_type": "code",
   "execution_count": 66,
   "id": "b1ec69c0",
   "metadata": {},
   "outputs": [
    {
     "data": {
      "text/plain": [
       "array([0.29206767, 0.42036061, 0.50770986, 0.56844572])"
      ]
     },
     "execution_count": 66,
     "metadata": {},
     "output_type": "execute_result"
    }
   ],
   "source": [
    "e_cum_87"
   ]
  },
  {
   "cell_type": "code",
   "execution_count": 64,
   "id": "46179efa",
   "metadata": {},
   "outputs": [
    {
     "data": {
      "text/plain": [
       "[13.401325030648058,\n",
       " 15.628787213506534,\n",
       " 17.28868164258405,\n",
       " 18.487238840716067,\n",
       " 19.318845016535125,\n",
       " 19.866416040113617,\n",
       " 20.201781719586105,\n",
       " 20.386079799022347,\n",
       " 20.470153736258087]"
      ]
     },
     "execution_count": 64,
     "metadata": {},
     "output_type": "execute_result"
    }
   ],
   "source": [
    "pre_strain(in_e_300,nc_e_300, 9, 300)"
   ]
  },
  {
   "cell_type": "code",
   "execution_count": 757,
   "id": "491dbc4e",
   "metadata": {},
   "outputs": [
    {
     "data": {
      "text/plain": [
       "[9.550003401525537,\n",
       " 11.39681583861104,\n",
       " 12.76429824238251,\n",
       " 13.741724572258477,\n",
       " 14.409114288919849,\n",
       " 14.837393893532422,\n",
       " 15.088560265145636,\n",
       " 15.215840743071917,\n",
       " 15.263817474909589]"
      ]
     },
     "execution_count": 757,
     "metadata": {},
     "output_type": "execute_result"
    }
   ],
   "source": [
    "pre_strain(in_e_200,nc_e_200, 9, 200)"
   ]
  },
  {
   "cell_type": "code",
   "execution_count": 921,
   "id": "16b2c995",
   "metadata": {},
   "outputs": [],
   "source": [
    "from sklearn.metrics import r2_score\n",
    "\n",
    "coefficient_of_dermination = r2_score(pre_strain(in_e_200,nc_e_200, 9, 200),s_cum_200[1:]) "
   ]
  },
  {
   "cell_type": "code",
   "execution_count": 922,
   "id": "2db43901",
   "metadata": {},
   "outputs": [
    {
     "data": {
      "text/plain": [
       "0.9908735083555548"
      ]
     },
     "execution_count": 922,
     "metadata": {},
     "output_type": "execute_result"
    }
   ],
   "source": [
    "coefficient_of_dermination"
   ]
  },
  {
   "cell_type": "code",
   "execution_count": null,
   "id": "9c9fbca5",
   "metadata": {},
   "outputs": [],
   "source": []
  }
 ],
 "metadata": {
  "kernelspec": {
   "display_name": "Python 3",
   "language": "python",
   "name": "python3"
  },
  "language_info": {
   "codemirror_mode": {
    "name": "ipython",
    "version": 3
   },
   "file_extension": ".py",
   "mimetype": "text/x-python",
   "name": "python",
   "nbconvert_exporter": "python",
   "pygments_lexer": "ipython3",
   "version": "3.8.8"
  }
 },
 "nbformat": 4,
 "nbformat_minor": 5
}
