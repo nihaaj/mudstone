{
 "cells": [
  {
   "cell_type": "markdown",
   "id": "11d65f71",
   "metadata": {},
   "source": [
    "# predicting model of slaking settlement¶\n",
    "## import and definition"
   ]
  },
  {
   "cell_type": "code",
   "execution_count": 44,
   "id": "e5951ad9",
   "metadata": {},
   "outputs": [],
   "source": [
    "import pandas as pd\n",
    "import matplotlib.pyplot as plt\n",
    "import numpy as np\n",
    "import itertools as it\n",
    "import math \n",
    "import numpy.polynomial.polynomial as poly\n",
    "from scipy.interpolate import interp1d\n",
    "from matplotlib.ticker import (MultipleLocator, AutoMinorLocator)\n",
    "import matplotlib.patches as patches\n",
    "# calculating the brekage \n",
    "def relative_br (seive_size, percentage_passing):\n",
    "\n",
    "    seive_log=np.log10(np.array(seive_size))\n",
    "    seive_dis=np.array(seive_log)[:-1]-np.array(seive_log)[1:]\n",
    "    per_dis_100_1cy=(np.array(percentage_passing)[:-1]+np.array(percentage_passing)[1:])/2\n",
    "    total_100_1cy=((seive_dis)*per_dis_100_1cy).sum()\n",
    "    seive_dis_init=(np.log10(np.array(seive_size)[0])-np.log10(np.array(seive_size)[1]))*50\n",
    "    area_inbetween=total_100_1cy-seive_dis_init\n",
    "    possible_total=(np.log10(np.array(seive_size)[0])-np.log10(np.array(seive_size)[-1]))*100-seive_dis_init\n",
    "    Br=(area_inbetween/possible_total)\n",
    "    return (Br)\n",
    "# calculating the particle size with givein percentage\n",
    "def parti_size (sei, pass_per, wan_per):\n",
    "    return(np.interp(wan_per,list(reversed(list(pass_per))),list(reversed(list(sei)))))\n",
    "def get_sub(x):\n",
    "    normal = \"ABCDEFGHIJKLMNOPQRSTUVWXYZabcdefghijklmnopqrstuvwxyz0123456789+-=()\"\n",
    "    sub_s = \"ₐ₈CDₑբGₕᵢⱼₖₗₘₙₒₚQᵣₛₜᵤᵥwₓᵧZₐ♭꜀ᑯₑբ₉ₕᵢⱼₖₗₘₙₒₚ૧ᵣₛₜᵤᵥwₓᵧ₂₀₁₂₃₄₅₆₇₈₉₊₋₌₍₎\"\n",
    "    res = x.maketrans(''.join(normal), ''.join(sub_s))\n",
    "    return x.translate(res)"
   ]
  },
  {
   "cell_type": "markdown",
   "id": "38261b37",
   "metadata": {},
   "source": [
    "# Data and its manipulation"
   ]
  },
  {
   "cell_type": "code",
   "execution_count": 70,
   "id": "20087927",
   "metadata": {},
   "outputs": [],
   "source": [
    "df1= pd. read_excel (r\"C:\\Users\\ThinkCentre-M73\\Desktop\\master 2\\master research1.xlsx\")#read the settlement related file\n",
    "# df2= pd. read_excel (r\"C:\\Users\\ThinkCentre-M73\\Desktop\\master 2\\python link file\\breakage.xlsx\")#read the breakage related file\n",
    "df3= pd. read_excel (r\"C:\\Users\\ThinkCentre-M73\\Desktop\\master 2\\python link file\\3 compaction strain.xlsx\")# 3 compaction mudstone\n",
    "df1.dropna(subset = [\"100 kpa\"], inplace=True)\n",
    "\n",
    "\n",
    "# add columen for dry density (no suffi)\n",
    "df1[\"Dry Density 100 kpa\"]=1250*(100)/(100-df1[\"100 kpa\"]-1)\n",
    "df1[\"Dry Density 200 kpa\"]=1250*(100)/(100-df1[\"200 kpa\"]-2.2)\n",
    "df1[\"Dry Density 500 kpa\"]=1250*(100)/(100-df1[\"500 kpa\"]-4)\n",
    "# compaction \n",
    "df3[\"Dry Density 82%\"]=1314*(100)/(100-df3[\"s-82%\"]-1.9)\n",
    "df3[\"Dry Density 87%\"]=1394*(100)/(100-df3[\"s-87%\"]-1.0)\n",
    "\n",
    "# add columen for voids (no suffi)\n",
    "df1[\"e-100 kpa\"]=(1-(df1[\"Dry Density 100 kpa\"]/2690))/(df1[\"Dry Density 100 kpa\"]/2690)\n",
    "df1[\"e-200 kpa\"]=(1-(df1[\"Dry Density 200 kpa\"]/2690))/(df1[\"Dry Density 200 kpa\"]/2690)\n",
    "df1[\"e-500 kpa\"]=(1-(df1[\"Dry Density 500 kpa\"]/2690))/(df1[\"Dry Density 500 kpa\"]/2690)\n",
    "# compaction \n",
    "df3[\"e-82%\"]=(1-(df3[\"Dry Density 82%\"]/2690))/(df3[\"Dry Density 82%\"]/2690)\n",
    "df3[\"e-87%\"]=(1-(df3[\"Dry Density 87%\"]/2690))/(df3[\"Dry Density 87%\"]/2690)\n",
    "# add columen for voids (suffi)\n",
    "df1['e-100 kpa'][0]=1.14229\n",
    "df1['e-200 kpa'][0]=1.105\n",
    "df1['e-500 kpa'][0]=1.02\n",
    "# add columen for relative compaction \n",
    "df1['dc-100']=df1['Dry Density 100 kpa']/1650*100\n",
    "df1['dc-200']=df1['Dry Density 200 kpa']/1650*100\n",
    "df1['dc-500']=df1['Dry Density 500 kpa']/1650*100"
   ]
  },
  {
   "cell_type": "code",
   "execution_count": 68,
   "id": "ec05d15e",
   "metadata": {},
   "outputs": [
    {
     "data": {
      "text/plain": [
       "0     1.142290\n",
       "1     0.505655\n",
       "2     0.489358\n",
       "3     0.486537\n",
       "4     0.476412\n",
       "5     0.476412\n",
       "6     0.468933\n",
       "7     0.468933\n",
       "8     0.464032\n",
       "9     0.463723\n",
       "10    0.460297\n",
       "11    0.459984\n",
       "12    0.457778\n",
       "13    0.457462\n",
       "14    0.456828\n",
       "15    0.455555\n",
       "16    0.456510\n",
       "17    0.455714\n",
       "18    0.456319\n",
       "19    0.455701\n",
       "Name: e-100 kpa, dtype: float64"
      ]
     },
     "execution_count": 68,
     "metadata": {},
     "output_type": "execute_result"
    }
   ],
   "source": [
    "df1[\"e-100 kpa\"]"
   ]
  },
  {
   "cell_type": "markdown",
   "id": "f7e1b577",
   "metadata": {},
   "source": [
    "\n",
    "## rearranging the data only for dry"
   ]
  },
  {
   "cell_type": "code",
   "execution_count": 51,
   "id": "f0b4aa2f",
   "metadata": {},
   "outputs": [],
   "source": [
    "#only dry and not for first wetting \n",
    "#100\n",
    "t0_100=np.array(df1['e-100 kpa'][::2])#e for dry \n",
    "t1_100=t0_100-np.ones(len(t0_100))*t0_100[-1]#differnce from nc line\n",
    "t2_100=t0_100[:-1]-t0_100[1:]                # e reduction\n",
    "# e_cum_100=np.cumsum(t1_100)# cumulative differnce from nc line\n",
    "s_cum_100=np.array(df1[\"100 kpa\"][::2])# cumulative dry strain\n",
    "s1_100=-(s_cum_100[:-1]-s_cum_100[1:])[:]#strain by cycle\n",
    "#200\n",
    "t0_200=np.array(df1['e-200 kpa'][::2])#e\n",
    "t1_200=t0_200-np.ones(len(t0_200))*t0_200[-1]#differnce from nc line\n",
    "t2_200=t0_200[:-1]-t0_200[1:]                 # e reduction\n",
    "# e_cum_200=np.cumsum(t1_200)# cumulative differnce from nc line\n",
    "s_cum_200=np.array(df1[\"200 kpa\"][::2])# cumulative dry strain\n",
    "s1_200=-(s_cum_200[:-1]-s_cum_200[1:])[:]#strain by cycle\n",
    "# #compaction \n",
    "#82%\n",
    "t0_82=np.array(df3['e-82%'][::2])#e\n",
    "t1_82=t0_82-np.ones(len(t0_82))*t0_200[-1]#differnce from nc line\n",
    "t2_82=t0_82[:-1]-t0_82[1:]\n",
    "e_cum_82=np.cumsum(t1_82)# cumulative differnce from nc line\n",
    "s_cum_82=np.array(df3[\"s-82%\"][::2])# cumulative dry strain\n",
    "s1_82=-(s_cum_82[:-1]-s_cum_82[1:])[:]\n",
    "#87%\n",
    "t0_87=np.array(df3['e-87%'][::2])#e\n",
    "t1_87=t0_82-np.ones(len(t0_87))*t0_200[-1]#differnce from nc line\n",
    "t2_87=t0_87[:-1]-t0_87[1:]\n",
    "e_cum_87=np.cumsum(t1_87)# cumulative differnce from nc line\n",
    "s_cum_87=np.array(df3[\"s-87%\"][::2])# cumulative dry strain\n",
    "s1_87=-(s_cum_87[:-1]-s_cum_87[1:])[:]\n",
    "#500\n",
    "t0_500=np.array(df1['e-500 kpa'][::2])#e\n",
    "t1_500=t0_500-np.ones(len(t0_500))*t0_500[-1]#differnce from nc line\n",
    "t2_500=t0_500[:-1]-t0_500[1:]\n",
    "# e_cum_500=np.cumsum(t1_500)# cumulative differnce from nc line\n",
    "s_cum_500=np.array(df1[\"500 kpa\"][::2])# cumulative dry strain\n",
    "s1_500=-(s_cum_500[:-1]-s_cum_500[1:])[:]"
   ]
  },
  {
   "cell_type": "code",
   "execution_count": 52,
   "id": "194b2221",
   "metadata": {},
   "outputs": [
    {
     "data": {
      "text/plain": [
       "(array([0.91040172, 0.76470947, 0.73576399, 0.70681851]),\n",
       " array([1.00828767, 0.83018265, 0.78923896, 0.76262557]))"
      ]
     },
     "execution_count": 52,
     "metadata": {},
     "output_type": "execute_result"
    }
   ],
   "source": [
    "t0_87,t0_82"
   ]
  },
  {
   "cell_type": "code",
   "execution_count": 73,
   "id": "4d4b1c5a",
   "metadata": {},
   "outputs": [
    {
     "data": {
      "text/plain": [
       "array([1.14229  , 0.95832  , 0.9099   , 0.883    , 0.865784 , 0.852872 ,\n",
       "       0.844264 , 0.841036 , 0.83996  , 0.8393144])"
      ]
     },
     "execution_count": 73,
     "metadata": {},
     "output_type": "execute_result"
    }
   ],
   "source": [
    "t0_100"
   ]
  },
  {
   "cell_type": "code",
   "execution_count": 74,
   "id": "0620cb75",
   "metadata": {},
   "outputs": [
    {
     "data": {
      "text/plain": [
       "array([0.18397  , 0.04842  , 0.0269   , 0.017216 , 0.012912 , 0.008608 ,\n",
       "       0.003228 , 0.001076 , 0.0006456])"
      ]
     },
     "execution_count": 74,
     "metadata": {},
     "output_type": "execute_result"
    }
   ],
   "source": [
    "t2_100"
   ]
  },
  {
   "cell_type": "code",
   "execution_count": 7,
   "id": "20209815",
   "metadata": {},
   "outputs": [],
   "source": []
  },
  {
   "cell_type": "code",
   "execution_count": null,
   "id": "524f8f88",
   "metadata": {},
   "outputs": [],
   "source": []
  },
  {
   "cell_type": "code",
   "execution_count": null,
   "id": "b6d68c04",
   "metadata": {},
   "outputs": [],
   "source": []
  },
  {
   "cell_type": "code",
   "execution_count": 48,
   "id": "8d315a57",
   "metadata": {},
   "outputs": [],
   "source": []
  },
  {
   "cell_type": "code",
   "execution_count": null,
   "id": "9843581c",
   "metadata": {},
   "outputs": [],
   "source": []
  },
  {
   "cell_type": "code",
   "execution_count": null,
   "id": "e081ce16",
   "metadata": {},
   "outputs": [],
   "source": []
  },
  {
   "cell_type": "code",
   "execution_count": 12,
   "id": "cc1b143f",
   "metadata": {},
   "outputs": [
    {
     "data": {
      "text/plain": [
       "array([0.3029756, 0.1190056, 0.0705856, 0.0436856, 0.0264696, 0.0135576,\n",
       "       0.0049496, 0.0017216, 0.0006456])"
      ]
     },
     "execution_count": 12,
     "metadata": {},
     "output_type": "execute_result"
    }
   ],
   "source": [
    "\n",
    "\n",
    "\n"
   ]
  },
  {
   "cell_type": "code",
   "execution_count": 53,
   "id": "459542fd",
   "metadata": {},
   "outputs": [
    {
     "data": {
      "image/png": "[encoded data removed]",
      "text/plain": [
       "<Figure size 432x288 with 2 Axes>"
      ]
     },
     "metadata": {
      "needs_background": "light"
     },
     "output_type": "display_data"
    }
   ],
   "source": [
    "plt.rcParams.update({'font.size': 12})\n",
    "\n",
    "\n",
    "\n",
    "\n",
    "#########################\n",
    "fig5,(ax5e,ax5d)=plt.subplots(1,2)\n",
    "# breakage of particle \n",
    "ax5d.plot(np.ones(len(t1_100[:-1]))*100,t2_100, color='green', marker=\"o\", linestyle='-',linewidth=0, markersize=5, label='Erod 100')\n",
    "ax5d.plot(np.ones(len(t1_200[:-1]))*200,t2_200,color='b', marker=\"o\", linestyle='-',linewidth=0, markersize=5, label='Erod 200')\n",
    "ax5d.plot(np.ones(len(t1_500[:-1]))*500,t2_500,color='r', marker=\"o\", linestyle='-',linewidth=0, markersize=5, label='Erod 500')\n",
    "ax5d.plot(np.ones(len(t2_82))*200,t2_82,color='c', marker=\"o\", linestyle='-',linewidth=0, markersize=5, label='Erod 82')\n",
    "ax5d.plot(np.ones(len(t2_87))*200,t2_87,color='m', marker=\"o\", linestyle='-',linewidth=0, markersize=5, label='Erod 82')\n",
    "# ax5d.legend(loc='upper left',framealpha=0.25)\n",
    "ax5d.grid(which='major', linestyle='-', linewidth='0.5', color='red')\n",
    "ax5d.grid(which='minor', linestyle=':', linewidth='0.5', color='black')\n",
    "ax5d.set_ylabel('void reduction',fontweight='bold')\n",
    "ax5d.set_xlabel('axian loading ',fontweight='bold')\n",
    "# ax5d.set_ylim(-0.1,1)\n",
    "ax5d.xaxis.set_major_locator(MultipleLocator(100))\n",
    "ax5d.xaxis.set_minor_locator(MultipleLocator(50))\n",
    "ax5d.yaxis.set_major_locator(MultipleLocator(0.2))\n",
    "ax5d.yaxis.set_minor_locator(MultipleLocator(0.1))\n",
    "# cumulative of voids \n",
    "ax5e.plot(t1_100[:-1],t2_100, color='green', marker=\"o\", linestyle='-',linewidth=0, markersize=5, label='Erod 100')\n",
    "ax5e.plot(t1_200[:-1],t2_200,color='b', marker=\"o\", linestyle='-',linewidth=0, markersize=5, label='Erod 200')\n",
    "ax5e.plot(t1_500[:-1],t2_500, color='r', marker=\"o\", linestyle='-',linewidth=0, markersize=5, label='Erod 500')\n",
    "ax5e.plot(t1_82[:-1],t2_82, color='c', marker=\"o\", linestyle='-',linewidth=0, markersize=5, label='Dc 82%')\n",
    "ax5e.plot(t1_87[:-1],t2_87, color='m', marker=\"o\", linestyle='-',linewidth=0, markersize=5, label='Dc 87%')\n",
    "ax5e.legend(loc='upper left',framealpha=0.25)\n",
    "ax5e.grid(which='major', linestyle='-', linewidth='0.5', color='red')\n",
    "ax5e.grid(which='minor', linestyle=':', linewidth='0.5', color='black')\n",
    "ax5e.set_ylabel('void reduction',fontweight='bold')\n",
    "ax5e.set_xlabel('initial void ',fontweight='bold')\n",
    "ax5e.xaxis.set_major_locator(MultipleLocator(0.2))\n",
    "ax5e.xaxis.set_minor_locator(MultipleLocator(0.1))\n",
    "ax5e.yaxis.set_major_locator(MultipleLocator(0.2))\n",
    "ax5e.yaxis.set_minor_locator(MultipleLocator(0.1))\n",
    "\n",
    "# voids vs cycle\n",
    "# e_cy_100= e_cum_100[:-1]-e_cum_100[1:]\n",
    "# e_cy_200= e_cum_200[:-1]-e_cum_200[1:]\n",
    "# e_cy_1500= e_cum_500[:-1]-e_cum_500[1:]\n",
    "\n",
    "\n",
    "fig5.tight_layout()\n",
    "plt.show()\n"
   ]
  },
  {
   "cell_type": "code",
   "execution_count": 56,
   "id": "bde1542e",
   "metadata": {},
   "outputs": [],
   "source": []
  },
  {
   "cell_type": "code",
   "execution_count": 57,
   "id": "06a7d743",
   "metadata": {},
   "outputs": [],
   "source": []
  },
  {
   "cell_type": "code",
   "execution_count": 49,
   "id": "296735c4",
   "metadata": {},
   "outputs": [],
   "source": [
    "\n",
    "    \n",
    "    "
   ]
  },
  {
   "cell_type": "code",
   "execution_count": 60,
   "id": "0631dd29",
   "metadata": {},
   "outputs": [
    {
     "data": {
      "image/png": "[encoded data removed]",
      "text/plain": [
       "<Figure size 432x288 with 1 Axes>"
      ]
     },
     "metadata": {
      "needs_background": "light"
     },
     "output_type": "display_data"
    }
   ],
   "source": []
  },
  {
   "cell_type": "code",
   "execution_count": 149,
   "id": "417103be",
   "metadata": {},
   "outputs": [
    {
     "ename": "SyntaxError",
     "evalue": "unexpected EOF while parsing (<ipython-input-149-81009808274a>, line 4)",
     "output_type": "error",
     "traceback": [
      "\u001b[1;36m  File \u001b[1;32m\"<ipython-input-149-81009808274a>\"\u001b[1;36m, line \u001b[1;32m4\u001b[0m\n\u001b[1;33m    popt,_ = curve_fit(objective,(voids, voids_reduction)\u001b[0m\n\u001b[1;37m                                                         ^\u001b[0m\n\u001b[1;31mSyntaxError\u001b[0m\u001b[1;31m:\u001b[0m unexpected EOF while parsing\n"
     ]
    }
   ],
   "source": [
    "from scipy.optimize import curve_fit\n",
    "def objective(x, a, b, c,d,e):\n",
    "\treturn (a * x**3) + (b * x**4) + c*x**2 + d*x + e\n",
    "popt,_ = curve_fit(objective,(voids, voids_reduction)"
   ]
  },
  {
   "cell_type": "code",
   "execution_count": 143,
   "id": "b4ab529a",
   "metadata": {},
   "outputs": [
    {
     "ename": "SyntaxError",
     "evalue": "invalid syntax (<ipython-input-143-7399a761630f>, line 5)",
     "output_type": "error",
     "traceback": [
      "\u001b[1;36m  File \u001b[1;32m\"<ipython-input-143-7399a761630f>\"\u001b[1;36m, line \u001b[1;32m5\u001b[0m\n\u001b[1;33m    a, b, c,d,e=popt\u001b[0m\n\u001b[1;37m    ^\u001b[0m\n\u001b[1;31mSyntaxError\u001b[0m\u001b[1;31m:\u001b[0m invalid syntax\n"
     ]
    }
   ],
   "source": [
    "from scipy.optimize import curve_fit\n",
    "def objective(x, a, b, c,d,e):\n",
    "\treturn (a * x**3) + (b * x**4) + c*x**2 + d*x + e\n",
    "popt,_ = curve_fit(objective,(voids, voids_reduction)\n",
    "a, b, c,d,e = popt \n",
    "# three particle curve fitting \n",
    "min_x3, max_x3 = min(voids), max(voids)  \n",
    "new_x3 = np.linspace(min_x3,max_x3,20)\n",
    "new_y3=objective(new_x3, a3, b3, c3,d3,e3)\n",
    "# ax4.plot(new_x3,new_y3,color='black', marker='o', linestyle='-',linewidth=2, markersize=0, label='Dense-3par')"
   ]
  },
  {
   "cell_type": "code",
   "execution_count": 123,
   "id": "aee1ba22",
   "metadata": {},
   "outputs": [],
   "source": [
    "voids_cy=np.concatenate([t1_100[1:-1],t1_200[1:-1],t1_500[1:-1],t1_82[1:-1],t1_87[1:-1]])\n",
    "voids_reduction_cy=np.concatenate([t2_100[1:],t2_200[1:],t2_500[1:],t2_82[1:],t2_87[1:]])\n",
    "load_cy=np.concatenate([np.ones(len(t2_100[1:]))*100,np.ones(len(t2_200[1:]))*200,np.ones(len(t2_500[1:]))*500,np.ones(len(t2_82[1:]))*200,np.ones(len(t2_87[1:]))*200])\n",
    "voids_in=np.hstack([t1_100[0],t1_200[0],t1_500[0],t1_82[0],t1_87[0]])\n",
    "voids_reduction_in=np.hstack([t2_100[0],t2_200[0],t2_500[0],t2_82[0],t2_87[0]]) \n",
    "load_in=np.hstack([100,200,500,200,200])  "
   ]
  },
  {
   "cell_type": "code",
   "execution_count": 119,
   "id": "9574a78a",
   "metadata": {},
   "outputs": [
    {
     "data": {
      "text/plain": [
       "array([0.1190056 , 0.0705856 , 0.0436856 , 0.0264696 , 0.0135576 ,\n",
       "       0.0049496 , 0.0017216 , 0.0006456 , 0.178616  , 0.120512  ,\n",
       "       0.083928  , 0.0538    , 0.03228   , 0.019368  , 0.008608  ,\n",
       "       0.002152  , 0.11396265, 0.07301896])"
      ]
     },
     "execution_count": 119,
     "metadata": {},
     "output_type": "execute_result"
    }
   ],
   "source": [
    "voids_cy"
   ]
  },
  {
   "cell_type": "markdown",
   "id": "811580c1",
   "metadata": {},
   "source": [
    "# relative voids from NC line"
   ]
  },
  {
   "cell_type": "code",
   "execution_count": null,
   "id": "35a0b714",
   "metadata": {},
   "outputs": [],
   "source": [
    "\n"
   ]
  },
  {
   "cell_type": "code",
   "execution_count": null,
   "id": "cb59e29d",
   "metadata": {},
   "outputs": [],
   "source": []
  },
  {
   "cell_type": "code",
   "execution_count": null,
   "id": "1aa12916",
   "metadata": {},
   "outputs": [],
   "source": []
  },
  {
   "cell_type": "markdown",
   "id": "db786c81",
   "metadata": {},
   "source": [
    "# gekko moldel \n",
    "## import/data setting \n"
   ]
  },
  {
   "cell_type": "code",
   "execution_count": null,
   "id": "a517a4b1",
   "metadata": {},
   "outputs": [],
   "source": []
  },
  {
   "cell_type": "code",
   "execution_count": null,
   "id": "93e7596a",
   "metadata": {},
   "outputs": [],
   "source": []
  },
  {
   "cell_type": "markdown",
   "id": "c9c75da3",
   "metadata": {},
   "source": [
    "L_in_cy=np.concatenate([np.ones(len(e_cum_100[0:-1]))*100],[np.ones(len(e_cum_200[0:-1]))*200],[np.ones(len(e_cum_500[0:-1]))*500])\n",
    "e_cy=np.concatenate([e_cum_100[0:-1]-e_cum_100[0],e_cum_200[0:-1]-e_cum_200[0],e_cum_500[0:-1]-e_cum_500[0]])\n",
    "s_t_cy=np.concatenate([s_cum_100[1:],s_cum_200[1:],s_cum_500[1:]])"
   ]
  },
  {
   "cell_type": "markdown",
   "id": "5d5be2f6",
   "metadata": {},
   "source": [
    "## define the variable "
   ]
  },
  {
   "cell_type": "code",
   "execution_count": 75,
   "id": "7ce12815",
   "metadata": {},
   "outputs": [],
   "source": [
    "\n"
   ]
  },
  {
   "cell_type": "code",
   "execution_count": 76,
   "id": "3764df0a",
   "metadata": {},
   "outputs": [],
   "source": []
  },
  {
   "cell_type": "code",
   "execution_count": null,
   "id": "2ab5b3d3",
   "metadata": {},
   "outputs": [],
   "source": [
    "\n"
   ]
  },
  {
   "cell_type": "markdown",
   "id": "6bdab279",
   "metadata": {},
   "source": [
    "xm1"
   ]
  },
  {
   "cell_type": "code",
   "execution_count": null,
   "id": "5860def5",
   "metadata": {},
   "outputs": [],
   "source": []
  },
  {
   "cell_type": "code",
   "execution_count": null,
   "id": "3212ca03",
   "metadata": {},
   "outputs": [],
   "source": []
  },
  {
   "cell_type": "code",
   "execution_count": null,
   "id": "cceb023b",
   "metadata": {},
   "outputs": [],
   "source": [
    "\n"
   ]
  },
  {
   "cell_type": "code",
   "execution_count": null,
   "id": "9e3a9b2a",
   "metadata": {},
   "outputs": [],
   "source": []
  },
  {
   "cell_type": "code",
   "execution_count": null,
   "id": "04c47d62",
   "metadata": {},
   "outputs": [],
   "source": []
  },
  {
   "cell_type": "code",
   "execution_count": null,
   "id": "a382a572",
   "metadata": {},
   "outputs": [],
   "source": []
  },
  {
   "cell_type": "code",
   "execution_count": null,
   "id": "128e3fda",
   "metadata": {},
   "outputs": [],
   "source": []
  },
  {
   "cell_type": "code",
   "execution_count": null,
   "id": "62283e3a",
   "metadata": {},
   "outputs": [],
   "source": []
  },
  {
   "cell_type": "code",
   "execution_count": null,
   "id": "3778cd69",
   "metadata": {},
   "outputs": [],
   "source": []
  },
  {
   "cell_type": "code",
   "execution_count": null,
   "id": "01348605",
   "metadata": {},
   "outputs": [],
   "source": []
  },
  {
   "cell_type": "code",
   "execution_count": null,
   "id": "27620a4b",
   "metadata": {},
   "outputs": [],
   "source": []
  },
  {
   "cell_type": "markdown",
   "id": "ed3ba08f",
   "metadata": {},
   "source": [
    "# only cycle predition"
   ]
  },
  {
   "cell_type": "code",
   "execution_count": 124,
   "id": "4d972ab7",
   "metadata": {},
   "outputs": [],
   "source": [
    "from gekko import GEKKO\n",
    "cof_e_cy=voids_cy\n",
    "cof_e_in=voids_in\n",
    "cof_load_cy=load_cy\n",
    "cof_load_in=load_in\n",
    "cof_ereduction_in=voids_reduction_in\n",
    "cof_ereduction_cy = voids_reduction_cy\n"
   ]
  },
  {
   "cell_type": "code",
   "execution_count": 125,
   "id": "29cd2484",
   "metadata": {},
   "outputs": [
    {
     "data": {
      "text/plain": [
       "array([0.1190056 , 0.0705856 , 0.0436856 , 0.0264696 , 0.0135576 ,\n",
       "       0.0049496 , 0.0017216 , 0.0006456 , 0.151716  , 0.097916  ,\n",
       "       0.065636  , 0.038736  , 0.022596  , 0.011836  , 0.00538   ,\n",
       "       0.001076  , 0.178616  , 0.120512  , 0.083928  , 0.0538    ,\n",
       "       0.03228   , 0.019368  , 0.008608  , 0.002152  , 0.11396265,\n",
       "       0.07301896, 0.11396265, 0.07301896])"
      ]
     },
     "execution_count": 125,
     "metadata": {},
     "output_type": "execute_result"
    }
   ],
   "source": [
    "cof_e_cy"
   ]
  },
  {
   "cell_type": "code",
   "execution_count": 126,
   "id": "27003917",
   "metadata": {},
   "outputs": [
    {
     "name": "stdout",
     "output_type": "stream",
     "text": [
      " ----------------------------------------------------------------\n",
      " APMonitor, Version 1.0.0\n",
      " APMonitor Optimization Suite\n",
      " ----------------------------------------------------------------\n",
      " \n",
      " \n",
      " --------- APM Model Size ------------\n",
      " Each time step contains\n",
      "   Objects      :  0\n",
      "   Constants    :  0\n",
      "   Variables    :  7\n",
      "   Intermediates:  0\n",
      "   Connections  :  0\n",
      "   Equations    :  2\n",
      "   Residuals    :  2\n",
      " \n",
      " Number of state variables:    31\n",
      " Number of total equations: -  28\n",
      " Number of slack variables: -  0\n",
      " ---------------------------------------\n",
      " Degrees of freedom       :    3\n",
      " \n",
      " ----------------------------------------------\n",
      " Model Parameter Estimation with APOPT Solver\n",
      " ----------------------------------------------\n",
      " \n",
      " Iter    Objective  Convergence\n",
      "    0  1.07776E+10  1.40672E-01\n",
      "    1  5.82002E+11  5.55112E-17\n",
      "    2  2.42050E+10  1.45398E-01\n",
      "    3  2.01900E+08  1.46196E-01\n",
      "    4  2.00443E+06  1.05085E-01\n",
      "    5  1.19073E+04  3.49866E-03\n",
      "    6  3.23736E+03  3.74996E-03\n",
      "    7  3.31974E+03  4.22804E-05\n",
      "    8  3.24411E+03  4.01609E-09\n",
      "    9  2.54628E+03  3.27448E-07\n",
      " \n",
      " Iter    Objective  Convergence\n",
      "   10  2.49004E+03  3.55816E-05\n",
      "   11  2.49083E+03  8.08563E-07\n",
      "   12  2.49075E+03  4.77049E-17\n",
      "   13  2.48458E+03  2.48057E-13\n",
      "   14  2.48302E+03  1.26309E-09\n",
      "   15  2.44154E+03  8.14578E-11\n",
      "   16  2.34549E+03  5.77423E-08\n",
      "   17  1.53715E+03  3.21484E-07\n",
      "   18  4.28559E+02  4.70593E-05\n",
      "   19  2.01433E+02  2.74902E-04\n",
      " \n",
      " Iter    Objective  Convergence\n",
      "   20  8.39527E+01  2.23099E-04\n",
      "   21  2.68281E+01  1.39781E-04\n",
      "   22  1.06044E+01  2.16524E-04\n",
      "   23  3.58168E+00  9.39335E-05\n",
      "   24  9.46248E-01  1.01419E-04\n",
      "   25  6.17762E-01  6.68388E-05\n",
      "   26  5.89639E-01  1.54791E-05\n",
      "   27  5.02156E-01  1.92657E-06\n",
      "   28  4.89376E-01  2.44267E-06\n",
      "   29  4.86037E-01  3.36627E-06\n",
      " \n",
      " Iter    Objective  Convergence\n",
      "   30  4.85988E-01  5.73577E-07\n",
      "   31  4.85989E-01  1.57326E-09\n",
      "   32  4.85988E-01  1.33156E-11\n",
      "   33  4.85988E-01  1.33156E-11\n",
      " Successful solution\n",
      " \n",
      " ---------------------------------------------------\n",
      " Solver         :  APOPT (v1.0)\n",
      " Solution time  :  0.037000000000000005 sec\n",
      " Objective      :  0.4859884817680788\n",
      " Successful solution\n",
      " ---------------------------------------------------\n",
      " \n",
      "\n",
      "a:  0.1\n",
      "b:  0.76894444766\n",
      "c:  0.11676087538\n"
     ]
    },
    {
     "data": {
      "image/png": "[encoded data removed]",
      "text/plain": [
       "<Figure size 432x288 with 1 Axes>"
      ]
     },
     "metadata": {
      "needs_background": "light"
     },
     "output_type": "display_data"
    }
   ],
   "source": [
    "xm1 = np.array(cof_load_cy) # cumulative voids after the collapse not last one minus the collapse voids\n",
    "xm2 = np.array(cof_e_cy)\n",
    "ym3 = np.array(cof_ereduction_cy)\n",
    "\n",
    "m3 = GEKKO(remote=False)\n",
    "\n",
    "a = m3.FV(lb=0.1,ub=100.0)\n",
    "b = m3.FV(lb=0.1,ub=100.0)\n",
    "c = m3.FV(lb=0.1,ub=100.0)\n",
    "\n",
    "\n",
    "x1 = m3.Param(value=xm1)\n",
    "x2 = m3.Param(value=xm2)\n",
    "\n",
    "z3 = m3.Param(value=ym3)\n",
    "y3 = m3.Var()\n",
    "m3.Equation(y3==c*(x1**a)*(x2**b))\n",
    "m3.Minimize(((y3-z3)/z3)**2)\n",
    "# Options\n",
    "\n",
    "a.STATUS = 1\n",
    "b.STATUS = 1\n",
    "c.STATUS = 1\n",
    "\n",
    "\n",
    "m3.options.IMODE = 2\n",
    "m3.options.SOLVER = 1\n",
    "# Solve\n",
    "m3.solve(disp=True)\n",
    "\n",
    "print('a: ', a.value[0])\n",
    "print('b: ', b.value[0])\n",
    "print('c: ', c.value[0])\n",
    "\n",
    "\n",
    "# print('A: ', A.value[0])\n",
    "\n",
    "##################################################################################################\n",
    "cFormula = \"Formula is : \" + \"\\n\" + \\\n",
    "           r\"$e_i^b*L^c + e_{cy}^e*L^f + G $\"\n",
    "\n",
    "from scipy import stats\n",
    "slope, intercept, r_value, p_value, \\\n",
    "       std_err = stats.linregress(ym3,y3)\n",
    "\n",
    "r2 = r_value**2\n",
    "cR2 = \"R^2 correlation = \" + str(r_value**2)\n",
    "# print(cR2)\n",
    "\n",
    "# plot solution\n",
    "plt.figure(1)\n",
    "plt.plot([0,0.2],[0,0.2],'k-',label='Measured')\n",
    "plt.plot(ym3,y3,'ro',label='Predicted')\n",
    "plt.xlabel('Measured Outcome (YM)')\n",
    "plt.ylabel('Predicted Outcome (Y)')\n",
    "plt.legend(loc='lower right')\n",
    "\n",
    "plt.text(0,5,'a =' + \"{:.2f}\".format(a.value[0])) \n",
    "plt.text(0,4,'b =' + \"{:.2f}\".format(b.value[0])) \n",
    "plt.text(0,2,'c =' + \"{:.2f}\".format(c.value[0])) \n",
    "\n",
    "\n",
    "\n",
    "plt.text(0,3,r'$R^2$ =' + \"{:.2f}\".format(r_value**2)) \n",
    "plt.text(0,1,cFormula)\n",
    "plt.grid(True)\n",
    "plt.show()\n",
    "cFormula = \"Formula is : \" + \"\\n\" + \\\n",
    "r\"$D * Voids^E * Load^f + G$\"\n",
    "cy_pre=y3\n"
   ]
  },
  {
   "cell_type": "code",
   "execution_count": 59,
   "id": "8273f831",
   "metadata": {},
   "outputs": [
    {
     "data": {
      "text/plain": [
       "array([0.3029756 , 0.38878   , 0.498536  , 0.29206767, 0.29206767])"
      ]
     },
     "execution_count": 59,
     "metadata": {},
     "output_type": "execute_result"
    }
   ],
   "source": [
    "cof_e_in"
   ]
  },
  {
   "cell_type": "code",
   "execution_count": 127,
   "id": "8b52703b",
   "metadata": {},
   "outputs": [
    {
     "name": "stdout",
     "output_type": "stream",
     "text": [
      " ----------------------------------------------------------------\n",
      " APMonitor, Version 1.0.0\n",
      " APMonitor Optimization Suite\n",
      " ----------------------------------------------------------------\n",
      " \n",
      " \n",
      " --------- APM Model Size ------------\n",
      " Each time step contains\n",
      "   Objects      :  0\n",
      "   Constants    :  0\n",
      "   Variables    :  7\n",
      "   Intermediates:  0\n",
      "   Connections  :  0\n",
      "   Equations    :  2\n",
      "   Residuals    :  2\n",
      " \n",
      " Number of state variables:    8\n",
      " Number of total equations: -  5\n",
      " Number of slack variables: -  0\n",
      " ---------------------------------------\n",
      " Degrees of freedom       :    3\n",
      " \n",
      " ----------------------------------------------\n",
      " Model Parameter Estimation with APOPT Solver\n",
      " ----------------------------------------------\n",
      " \n",
      " Iter    Objective  Convergence\n",
      "    0  8.24682E+02  1.40650E-01\n",
      "    1  7.89254E+03  2.77556E-17\n",
      "    2  4.79342E-01  2.26669E-01\n",
      "    3  7.86372E-02  1.05498E-01\n",
      "    4  5.20316E-02  2.35290E-02\n",
      "    5  5.01280E-02  1.01050E-03\n",
      "    6  4.75353E-02  3.97959E-04\n",
      "    7  4.14265E-02  4.12564E-04\n",
      "    8  4.13505E-02  2.24129E-03\n",
      "    9  4.13493E-02  6.14467E-06\n",
      " \n",
      " Iter    Objective  Convergence\n",
      "   10  4.13494E-02  3.17341E-07\n",
      "   11  4.13494E-02  5.92701E-12\n",
      "   12  4.13494E-02  5.92701E-12\n",
      " Successful solution\n",
      " \n",
      " ---------------------------------------------------\n",
      " Solver         :  APOPT (v1.0)\n",
      " Solution time  :  0.023 sec\n",
      " Objective      :  0.04134936040221367\n",
      " Successful solution\n",
      " ---------------------------------------------------\n",
      " \n",
      "\n",
      "e:  0.1\n",
      "f:  1.0883838969\n",
      "g:  0.37588590212\n",
      "R^2 correlation = 0.942488781734213\n"
     ]
    },
    {
     "data": {
      "image/png": "[encoded data removed]",
      "text/plain": [
       "<Figure size 432x288 with 1 Axes>"
      ]
     },
     "metadata": {
      "needs_background": "light"
     },
     "output_type": "display_data"
    }
   ],
   "source": [
    "\n",
    "xm1 = np.array(cof_load_in) # cumulative voids after the collapse not last one minus the collapse voids\n",
    "xm2 = np.array(cof_e_in)\n",
    "ym4 = np.array(cof_ereduction_in)\n",
    "\n",
    "m4 = GEKKO(remote=False)\n",
    "\n",
    "e = m4.FV(lb=0.1,ub=100.0)\n",
    "f = m4.FV(lb=0.1,ub=100.0)\n",
    "g = m4.FV(lb=0.1,ub=100.0)\n",
    "\n",
    "\n",
    "x1 = m4.Param(value=xm1)\n",
    "x2 = m4.Param(value=xm2)\n",
    "\n",
    "z4 = m4.Param(value=ym4)\n",
    "y4 = m4.Var()\n",
    "m4.Equation(y4==g*(x1**e)*(x2**f))\n",
    "m4.Minimize(((y4-z4)/z4)**2)\n",
    "# Options\n",
    "\n",
    "e.STATUS = 1\n",
    "f.STATUS = 1\n",
    "g.STATUS = 1\n",
    "\n",
    "\n",
    "m4.options.IMODE = 2\n",
    "m4.options.SOLVER = 1\n",
    "# Solve\n",
    "m4.solve(disp=True)\n",
    "\n",
    "print('e: ', e.value[0])\n",
    "print('f: ', f.value[0])\n",
    "print('g: ', g.value[0])\n",
    "\n",
    "\n",
    "# print('A: ', A.value[0])\n",
    "\n",
    "##################################################################################################\n",
    "cFormula = \"Formula is : \" + \"\\n\" + \\\n",
    "           r\"$e_i^b*L^c + e_{cy}^e*L^f + G $\"\n",
    "\n",
    "from scipy import stats\n",
    "slope, intercept, r_value, p_value, \\\n",
    "       std_err = stats.linregress(ym4,y4)\n",
    "\n",
    "r2 = r_value**2\n",
    "cR2 = \"R^2 correlation = \" + str(r_value**2)\n",
    "print(cR2)\n",
    "\n",
    "# plot solution\n",
    "plt.figure(1)\n",
    "plt.plot([0,0.5],[0,0.5],'k-',label='Measured')\n",
    "plt.plot(ym4,y4,'ro',label='Predicted')\n",
    "plt.xlabel('Measured Outcome (YM)')\n",
    "plt.ylabel('Predicted Outcome (Y)')\n",
    "plt.legend(loc='lower right')\n",
    "\n",
    "plt.text(0,5,'e =' + \"{:.2f}\".format(e.value[0])) \n",
    "plt.text(0,4,'f =' + \"{:.2f}\".format(f.value[0])) \n",
    "plt.text(0,2,'c =' + \"{:.2f}\".format(g.value[0])) \n",
    "\n",
    "\n",
    "\n",
    "plt.text(0,3,r'$R^2$ =' + \"{:.2f}\".format(r_value**2)) \n",
    "plt.text(0,1,cFormula)\n",
    "plt.grid(True)\n",
    "plt.show()\n",
    "cFormula = \"Formula is : \" + \"\\n\" + \\\n",
    "r\"$D * Voids^E * Load^f + G$\""
   ]
  },
  {
   "cell_type": "code",
   "execution_count": 111,
   "id": "0cd80366",
   "metadata": {},
   "outputs": [],
   "source": [
    "pre_100=cy_pre[0:8]\n",
    "pre_200=cy_pre[8:16]\n",
    "pre_500=cy_pre[16:24]\n",
    "pre_100.insert(0,y4[0])\n",
    "pre_200.insert(0,y4[1])\n",
    "pre_500.insert(0,y4[2])\n",
    "pre_82=cy_pre[24:26]\n",
    "pre_87=cy_pre[26:28]\n",
    "pre_82.insert(0,y4[3])\n",
    "pre_87.insert(0,y4[4])"
   ]
  },
  {
   "cell_type": "code",
   "execution_count": 114,
   "id": "91524e2f",
   "metadata": {
    "scrolled": true
   },
   "outputs": [],
   "source": [
    "pre_str_100=(np.cumsum(pre_100))/(1+t0_100[0])*100\n",
    "pre_str_200=(np.cumsum(pre_200))/(1+t0_200[0])*100\n",
    "pre_str_500=(np.cumsum(pre_500))/(1+t0_500[0])*100\n"
   ]
  },
  {
   "cell_type": "code",
   "execution_count": 113,
   "id": "f9928cdf",
   "metadata": {},
   "outputs": [
    {
     "data": {
      "text/plain": [
       "(array([ 7.5814141 ,  9.26246849, 10.38745089, 11.16533477, 11.69450991,\n",
       "        12.01086253, 12.15663367, 12.22134861, 12.25178956]),\n",
       " array([ 0.  ,  8.  , 10.25, 11.5 , 12.3 , 12.9 , 13.3 , 13.45, 13.5 ,\n",
       "        13.53]),\n",
       " array([1.14229  , 0.95832  , 0.9099   , 0.883    , 0.865784 , 0.852872 ,\n",
       "        0.844264 , 0.841036 , 0.83996  , 0.8393144]),\n",
       " array([0.16241588, 0.19842894, 0.22252932, 0.23919385, 0.25053032,\n",
       "        0.25730751, 0.26043035, 0.26181673, 0.26246886]))"
      ]
     },
     "execution_count": 113,
     "metadata": {},
     "output_type": "execute_result"
    }
   ],
   "source": [
    "pre_str_100,s_cum_100,t0_100,np.cumsum(pre_100)\n"
   ]
  },
  {
   "cell_type": "code",
   "execution_count": 107,
   "id": "7df9c678",
   "metadata": {},
   "outputs": [
    {
     "data": {
      "text/plain": [
       "1.14229"
      ]
     },
     "execution_count": 107,
     "metadata": {},
     "output_type": "execute_result"
    }
   ],
   "source": [
    "t0_100[0]"
   ]
  },
  {
   "cell_type": "code",
   "execution_count": 117,
   "id": "8df6f827",
   "metadata": {},
   "outputs": [
    {
     "ename": "NameError",
     "evalue": "name 'pre_strain' is not defined",
     "output_type": "error",
     "traceback": [
      "\u001b[1;31m---------------------------------------------------------------------------\u001b[0m",
      "\u001b[1;31mNameError\u001b[0m                                 Traceback (most recent call last)",
      "\u001b[1;32m<ipython-input-117-372e7cd4c53a>\u001b[0m in \u001b[0;36m<module>\u001b[1;34m\u001b[0m\n\u001b[0;32m     11\u001b[0m \u001b[1;31m# plt.plot(np.linspace(1, 9,9),pre_strain(in_e_200,nc_e_200, 9, 200),'b-.',label='200 kpa cal')\u001b[0m\u001b[1;33m\u001b[0m\u001b[1;33m\u001b[0m\u001b[1;33m\u001b[0m\u001b[0m\n\u001b[0;32m     12\u001b[0m \u001b[1;31m# plt.plot(np.linspace(1, 3,3),pre_strain(in_e_82,nc_e_82, 3, 200),'b-.',label='200 kpa cal')\u001b[0m\u001b[1;33m\u001b[0m\u001b[1;33m\u001b[0m\u001b[1;33m\u001b[0m\u001b[0m\n\u001b[1;32m---> 13\u001b[1;33m \u001b[0mpre_strain\u001b[0m\u001b[1;33m(\u001b[0m\u001b[0min_e_300\u001b[0m\u001b[1;33m,\u001b[0m\u001b[0mnc_e_300\u001b[0m\u001b[1;33m,\u001b[0m \u001b[1;36m9\u001b[0m\u001b[1;33m,\u001b[0m \u001b[1;36m300\u001b[0m\u001b[1;33m)\u001b[0m\u001b[1;33m\u001b[0m\u001b[1;33m\u001b[0m\u001b[0m\n\u001b[0m\u001b[0;32m     14\u001b[0m \u001b[0mplt\u001b[0m\u001b[1;33m.\u001b[0m\u001b[0mxlabel\u001b[0m\u001b[1;33m(\u001b[0m\u001b[1;34m'Dry/Wet cycle'\u001b[0m\u001b[1;33m)\u001b[0m\u001b[1;33m\u001b[0m\u001b[1;33m\u001b[0m\u001b[0m\n\u001b[0;32m     15\u001b[0m \u001b[0mplt\u001b[0m\u001b[1;33m.\u001b[0m\u001b[0mylabel\u001b[0m\u001b[1;33m(\u001b[0m\u001b[1;34m'Vertical strain(%)'\u001b[0m\u001b[1;33m)\u001b[0m\u001b[1;33m\u001b[0m\u001b[1;33m\u001b[0m\u001b[0m\n",
      "\u001b[1;31mNameError\u001b[0m: name 'pre_strain' is not defined"
     ]
    },
    {
     "data": {
      "image/png": "[encoded data removed]",
      "text/plain": [
       "<Figure size 432x288 with 1 Axes>"
      ]
     },
     "metadata": {
      "needs_background": "light"
     },
     "output_type": "display_data"
    }
   ],
   "source": [
    "plt.figure()\n",
    "\n",
    "plt.plot(np.linspace(1, 9,9),s_cum_100[1:],'ro',label='100 kpa Mas')\n",
    "plt.plot(np.linspace(1, 9,9),s_cum_200[1:],'bo',label='200 kpa Mas')\n",
    "plt.plot(np.linspace(1, 9,9),s_cum_500[1:],'go',label='500 kpa Mas')\n",
    "plt.plot(np.linspace(1, 3,3),s_cum_87[1:],'co',label='82')\n",
    "plt.plot(np.linspace(1, 9,9),np.cumsum(pre_100),'r--',label='100 kpa cal')\n",
    "#plt.plot(np.linspace(1, 9,9),np.cumsum(pre_200),'b--',label='200 kpa cal')\n",
    "plt.plot(np.linspace(1, 9,9),np.cumsum(pre_500),'g--',label='500 kpa cal')\n",
    "plt.plot(np.linspace(1, 9,9),pre_strain(in_e_300,nc_e_300, 9, 300),'g-.',label='300 kpa cal')\n",
    "plt.plot(np.linspace(1, 9,9),pre_strain(in_e_200,nc_e_200, 9, 200),'b-.',label='200 kpa cal')\n",
    "plt.plot(np.linspace(1, 3,3),pre_strain(in_e_82,nc_e_82, 3, 200),'b-.',label='200 kpa cal')\n",
    "pre_strain(in_e_300,nc_e_300, 9, 300)\n",
    "plt.xlabel('Dry/Wet cycle')\n",
    "plt.ylabel('Vertical strain(%)')\n",
    "plt.legend(loc='best',framealpha=0.25,ncol=2)\n",
    "\n",
    "plt.grid(True)\n",
    "plt.show()\n",
    "\n",
    "from scipy import stats\n",
    "slope, intercept, r_value, p_value, \\\n",
    "       std_err = stats.linregress(s_cum_200[1:],pre_strain(in_e_200,nc_e_200, 9, 200))\n",
    "\n",
    "r2 = r_value**2\n",
    "cR2 = \"R^2 correlation = \" + str(r_value**2)\n",
    "print(cR2)\n",
    "\n",
    "# plot solution\n",
    "plt.figure(1)\n",
    "plt.plot([10,18],[10,18],'k-',label='Measured')\n",
    "plt.plot(s_cum_200[1:],pre_strain(in_e_200,nc_e_200, 9, 200),'ro',label='Predicted')\n",
    "plt.xlabel('Measured Outcome (YM)')\n",
    "plt.ylabel('Predicted Outcome (Y)')\n",
    "plt.legend(loc='lower right')\n",
    "\n",
    "# plt.text(0,5,'e =' + \"{:.2f}\".format(e.value[0])) \n",
    "# plt.text(0,4,'f =' + \"{:.2f}\".format(f.value[0])) \n",
    "# plt.text(0,2,'c =' + \"{:.2f}\".format(c.value[0])) \n",
    "\n",
    "\n",
    "\n",
    "plt.text(10,16,r'$R^2$ =' + \"{:.2f}\".format(r_value**2)) \n",
    "# plt.text(0,1,cFormula)\n",
    "plt.grid(True)\n",
    "plt.show()\n",
    "# cFormula = \"Formula is : \" + \"\\n\" + \\\n",
    "r\"$D * Voids^E * Load^f + G$\""
   ]
  },
  {
   "cell_type": "markdown",
   "id": "73f53190",
   "metadata": {},
   "source": [
    "# prediction of 300 kpa"
   ]
  },
  {
   "cell_type": "code",
   "execution_count": 87,
   "id": "9a255509",
   "metadata": {},
   "outputs": [
    {
     "data": {
      "text/plain": [
       "(array([11.  , 13.5 , 15.  , 16.25, 17.  , 17.5 , 17.8 , 18.  , 18.05]),\n",
       " array([10.66683115, 11.96796393, 12.91382583, 13.57579312, 14.01671894,\n",
       "        14.29121552, 14.44594379, 14.51990741, 14.54472469]),\n",
       " 0.9996568769892696)"
      ]
     },
     "execution_count": 87,
     "metadata": {},
     "output_type": "execute_result"
    }
   ],
   "source": [
    "(s_cum_200[1:]),np.array(pre_strain(in_e_200,nc_e_200, 9, 200)),r_value"
   ]
  },
  {
   "cell_type": "code",
   "execution_count": 88,
   "id": "c9455773",
   "metadata": {},
   "outputs": [
    {
     "name": "stdout",
     "output_type": "stream",
     "text": [
      "R^2 correlation = 0.9993138717119397\n"
     ]
    },
    {
     "data": {
      "image/png": "[encoded data removed]",
      "text/plain": [
       "<Figure size 432x288 with 1 Axes>"
      ]
     },
     "metadata": {
      "needs_background": "light"
     },
     "output_type": "display_data"
    },
    {
     "data": {
      "text/plain": [
       "'$D * Voids^E * Load^f + G$'"
      ]
     },
     "execution_count": 88,
     "metadata": {},
     "output_type": "execute_result"
    }
   ],
   "source": [
    "from scipy import stats\n",
    "slope, intercept, r_value, p_value, \\\n",
    "       std_err = stats.linregress(s_cum_200[1:],pre_strain(in_e_200,nc_e_200, 9, 200))\n",
    "\n",
    "r2 = r_value**2\n",
    "cR2 = \"R^2 correlation = \" + str(r_value**2)\n",
    "print(cR2)\n",
    "\n",
    "# plot solution\n",
    "plt.figure(1)\n",
    "plt.plot([10,18],[10,18],'k-',label='Measured')\n",
    "plt.plot(s_cum_200[1:],pre_strain(in_e_200,nc_e_200, 9, 200),'ro',label='Predicted')\n",
    "plt.xlabel('Measured Outcome (YM)')\n",
    "plt.ylabel('Predicted Outcome (Y)')\n",
    "plt.legend(loc='lower right')\n",
    "\n",
    "# plt.text(0,5,'e =' + \"{:.2f}\".format(e.value[0])) \n",
    "# plt.text(0,4,'f =' + \"{:.2f}\".format(f.value[0])) \n",
    "# plt.text(0,2,'c =' + \"{:.2f}\".format(c.value[0])) \n",
    "\n",
    "\n",
    "\n",
    "plt.text(10,16,r'$R^2$ =' + \"{:.2f}\".format(r_value**2)) \n",
    "# plt.text(0,1,cFormula)\n",
    "plt.grid(True)\n",
    "plt.show()\n",
    "# cFormula = \"Formula is : \" + \"\\n\" + \\\n",
    "r\"$D * Voids^E * Load^f + G$\""
   ]
  },
  {
   "cell_type": "code",
   "execution_count": 97,
   "id": "488e230b",
   "metadata": {},
   "outputs": [],
   "source": [
    "df4=pd.read_excel(r\"C:\\Users\\ThinkCentre-M73\\Desktop\\master 2\\python link file\\voids vs load.xlsx\")\n",
    "in_e_300=np.interp(300,df4[\"loading\"],df4[\"voids-load\"])\n",
    "nc_e_300=np.interp(300,[200,500],[t0_200[-1],t0_500[-1]])\n",
    "no_cycle=9\n",
    "load=300"
   ]
  },
  {
   "cell_type": "code",
   "execution_count": 99,
   "id": "e388b68b",
   "metadata": {},
   "outputs": [],
   "source": [
    "in_e_200=np.interp(200,df4[\"loading\"],df4[\"voids-load\"])\n",
    "nc_e_200=0.7162\n",
    "no_cycle=9\n",
    "load=200"
   ]
  },
  {
   "cell_type": "code",
   "execution_count": 100,
   "id": "3aa225ef",
   "metadata": {},
   "outputs": [],
   "source": [
    "in_e_82=df3['e-82%'][0]\n",
    "nc_e_82=0.7162\n",
    "no_cycle=3\n",
    "load=200"
   ]
  },
  {
   "cell_type": "code",
   "execution_count": 115,
   "id": "3be997ce",
   "metadata": {},
   "outputs": [
    {
     "data": {
      "text/plain": [
       "(1.0082876712328768, 1.1057963871128824)"
      ]
     },
     "execution_count": 115,
     "metadata": {},
     "output_type": "execute_result"
    }
   ],
   "source": [
    "in_e_82,in_e_200"
   ]
  },
  {
   "cell_type": "code",
   "execution_count": 102,
   "id": "933cf64f",
   "metadata": {},
   "outputs": [],
   "source": [
    "def pre_strain (in_e,nc_e,no_cycle,load):\n",
    "    strain_pre=[]\n",
    "    \n",
    "    # initial strain\n",
    "    str_in=load**0.47*(in_e-nc_e)**0.1\n",
    "    strain_pre.insert(0,str_in)\n",
    "    ini1=[]\n",
    "    ini=in_e*(1-((str_in)/100))-(str_in)/100\n",
    "    for i in range(no_cycle-1):\n",
    "        strain_pre.append(strain_pre[i]+5.61*load**0.1*(ini-nc_e)**0.78)\n",
    "        ini=in_e*(1-((strain_pre[i+1])/100))-(strain_pre[i+1])/100\n",
    "        ini1.append(in_e*(1-(strain_pre[i+1])/97)-(strain_pre[i+1])/97)\n",
    "    return strain_pre\n",
    "        \n",
    "        \n",
    "    \n"
   ]
  },
  {
   "cell_type": "code",
   "execution_count": 66,
   "id": "b1ec69c0",
   "metadata": {},
   "outputs": [
    {
     "data": {
      "text/plain": [
       "array([0.29206767, 0.42036061, 0.50770986, 0.56844572])"
      ]
     },
     "execution_count": 66,
     "metadata": {},
     "output_type": "execute_result"
    }
   ],
   "source": [
    "e_cum_87"
   ]
  },
  {
   "cell_type": "code",
   "execution_count": 64,
   "id": "46179efa",
   "metadata": {},
   "outputs": [
    {
     "data": {
      "text/plain": [
       "[13.401325030648058,\n",
       " 15.628787213506534,\n",
       " 17.28868164258405,\n",
       " 18.487238840716067,\n",
       " 19.318845016535125,\n",
       " 19.866416040113617,\n",
       " 20.201781719586105,\n",
       " 20.386079799022347,\n",
       " 20.470153736258087]"
      ]
     },
     "execution_count": 64,
     "metadata": {},
     "output_type": "execute_result"
    }
   ],
   "source": [
    "pre_strain(in_e_300,nc_e_300, 9, 300)"
   ]
  },
  {
   "cell_type": "code",
   "execution_count": 757,
   "id": "491dbc4e",
   "metadata": {},
   "outputs": [
    {
     "data": {
      "text/plain": [
       "[9.550003401525537,\n",
       " 11.39681583861104,\n",
       " 12.76429824238251,\n",
       " 13.741724572258477,\n",
       " 14.409114288919849,\n",
       " 14.837393893532422,\n",
       " 15.088560265145636,\n",
       " 15.215840743071917,\n",
       " 15.263817474909589]"
      ]
     },
     "execution_count": 757,
     "metadata": {},
     "output_type": "execute_result"
    }
   ],
   "source": [
    "pre_strain(in_e_200,nc_e_200, 9, 200)"
   ]
  },
  {
   "cell_type": "code",
   "execution_count": 921,
   "id": "16b2c995",
   "metadata": {},
   "outputs": [],
   "source": [
    "from sklearn.metrics import r2_score\n",
    "\n",
    "coefficient_of_dermination = r2_score(pre_strain(in_e_200,nc_e_200, 9, 200),s_cum_200[1:]) "
   ]
  },
  {
   "cell_type": "code",
   "execution_count": 922,
   "id": "2db43901",
   "metadata": {},
   "outputs": [
    {
     "data": {
      "text/plain": [
       "0.9908735083555548"
      ]
     },
     "execution_count": 922,
     "metadata": {},
     "output_type": "execute_result"
    }
   ],
   "source": [
    "coefficient_of_dermination"
   ]
  },
  {
   "cell_type": "code",
   "execution_count": null,
   "id": "9c9fbca5",
   "metadata": {},
   "outputs": [],
   "source": []
  }
 ],
 "metadata": {
  "kernelspec": {
   "display_name": "Python 3",
   "language": "python",
   "name": "python3"
  },
  "language_info": {
   "codemirror_mode": {
    "name": "ipython",
    "version": 3
   },
   "file_extension": ".py",
   "mimetype": "text/x-python",
   "name": "python",
   "nbconvert_exporter": "python",
   "pygments_lexer": "ipython3",
   "version": "3.8.8"
  }
 },
 "nbformat": 4,
 "nbformat_minor": 5
}
